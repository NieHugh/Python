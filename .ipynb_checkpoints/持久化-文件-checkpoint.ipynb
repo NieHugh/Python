{
 "cells": [
  {
   "cell_type": "markdown",
   "metadata": {},
   "source": [
    "# 文件\n",
    "- 长久保存信息的一种数据信息集合\n",
    "- 常用操作\n",
    "    - 打开关闭（文件一旦打开，需要关闭操作）\n",
    "    - 读写内容\n",
    "    - 查找\n",
    "# open函数\n",
    "- open函数负责打开文件，带有很多参数\n",
    "- 第一个参数：必须有，文件的路径和名称\n",
    "- mode：表明文件用什么方式打开\n",
    "    - r：以只读方式打开\n",
    "    - w：写方式打开，会覆盖以前的内容\n",
    "    - x：创建方式打开，如文件已经存在，报错\n",
    "    - a：append方式打开，以追加的方式对文件内容写入\n",
    "    - b：binary方式，二进制方式写入\n",
    "    - t：文本方式打开\n",
    "    - +：可读写\n",
    "   "
   ]
  },
  {
   "cell_type": "code",
   "execution_count": 2,
   "metadata": {},
   "outputs": [],
   "source": [
    "#r表示后面的字符串内容不需要转义\n",
    "f = open(r\"test01.txt\",'w')\n",
    "\n",
    "f.close()\n",
    "\n"
   ]
  },
  {
   "cell_type": "markdown",
   "metadata": {},
   "source": [
    "# with 语句\n",
    "- with语句使用的技术是一种称为上下文管理协议的技术（ContextManagementProtocal）\n",
    "- 自动判断文件的作用域，自动关闭不在使用的打开的文件句柄"
   ]
  },
  {
   "cell_type": "code",
   "execution_count": 3,
   "metadata": {},
   "outputs": [],
   "source": [
    "# with语句案例\n",
    "with open(r\"test01.txt\",'r') as f:\n",
    "    pass"
   ]
  },
  {
   "cell_type": "code",
   "execution_count": 5,
   "metadata": {},
   "outputs": [
    {
     "name": "stdout",
     "output_type": "stream",
     "text": [
      "dasdrfsdtf\n",
      "\n",
      "sdfsdffg\n",
      "\n",
      "fsdf\n",
      "\n",
      "fsd\n",
      "\n",
      "fsdf\n",
      "\n",
      "fsdf\n",
      "\n",
      "f\n",
      "\n",
      "sdffsdffsdf\n",
      "\n",
      "f\n",
      "\n",
      "sdf\n",
      "\n",
      "ffsdff\n"
     ]
    }
   ],
   "source": [
    "with open(r\"test01.txt\",'r') as f:\n",
    "    # 按行读取内容\n",
    "    strline = f.readline()\n",
    "    # 此结构保证读取文件直到结束\n",
    "    while strline:\n",
    "        print(strline)\n",
    "        strline = f.readline()"
   ]
  },
  {
   "cell_type": "code",
   "execution_count": 8,
   "metadata": {},
   "outputs": [
    {
     "name": "stdout",
     "output_type": "stream",
     "text": [
      "dasdrfsdtf\n",
      "\n",
      "sdfsdffg\n",
      "\n",
      "fsdf\n",
      "\n",
      "fsd\n",
      "\n",
      "fsdf\n",
      "\n",
      "fsdf\n",
      "\n",
      "f\n",
      "\n",
      "sdffsdffsdf\n",
      "\n",
      "f\n",
      "\n",
      "sdf\n",
      "\n",
      "ffsdff\n"
     ]
    }
   ],
   "source": [
    "# list 能用打开的文件作为参数，把文件内每一行内容作为一个元素\n",
    "with open(r\"test01.txt\",'r') as f:\n",
    "    l = list(f)\n",
    "    for line in l:\n",
    "        print(line)"
   ]
  },
  {
   "cell_type": "code",
   "execution_count": 11,
   "metadata": {},
   "outputs": [
    {
     "name": "stdout",
     "output_type": "stream",
     "text": [
      "65\n",
      "dasdrfsdtf\n",
      "sdfsdffg\n",
      "fsdf\n",
      "fsd\n",
      "fsdf\n",
      "fsdf\n",
      "f\n",
      "sdffsdffsdf\n",
      "f\n",
      "sdf\n",
      "ffsdff\n"
     ]
    }
   ],
   "source": [
    "# read是按字符读取文件内容\n",
    "# 允许输入参数决定读取几个字符，如果没有指定，从当前位置读取到结尾\n",
    "# 否则，从当前位置读取指定个数字符\n",
    "\n",
    "with open(r\"test01.txt\",'r') as f:\n",
    "    strChar = f.read()\n",
    "    print(len(strChar))\n",
    "    print(strChar)"
   ]
  },
  {
   "cell_type": "markdown",
   "metadata": {},
   "source": [
    "# seek (offset,from)\n",
    "- 移动文件的读取位置，也叫读取指针\n",
    "- from的取值范围\n",
    "    - 0：从文件头开始偏移\n",
    "    - 1：从文件当前位置开始偏移\n",
    "    - 2：从文件末尾开始偏移\n",
    "- 移动的单位是字节（byte)\n",
    "- 一个汉字由若干个字节构成\n",
    "- 返回文件指针当前位置"
   ]
  },
  {
   "cell_type": "code",
   "execution_count": 12,
   "metadata": {},
   "outputs": [
    {
     "name": "stdout",
     "output_type": "stream",
     "text": [
      "rfsdtf\n",
      "sdfsdffg\n",
      "fsdf\n",
      "fsd\n",
      "fsdf\n",
      "fsdf\n",
      "f\n",
      "sdffsdffsdf\n",
      "f\n",
      "sdf\n",
      "ffsdff\n"
     ]
    }
   ],
   "source": [
    "# seek案例\n",
    "with open(r\"test01.txt\",'r') as f:\n",
    "    #seek移动的单位是字节\n",
    "    f.seek(4,0)\n",
    "    strChar = f.read()\n",
    "    print(strChar)"
   ]
  },
  {
   "cell_type": "code",
   "execution_count": 13,
   "metadata": {},
   "outputs": [
    {
     "name": "stdout",
     "output_type": "stream",
     "text": [
      "das\n",
      "drf\n",
      "sdt\n",
      "f\n",
      "s\n",
      "dfs\n",
      "dff\n",
      "g\n",
      "f\n",
      "sdf\n",
      "\n",
      "fs\n",
      "d\n",
      "f\n",
      "sdf\n",
      "\n",
      "fs\n",
      "df\n",
      "\n",
      "f\n",
      "s\n",
      "dff\n",
      "sdf\n",
      "fsd\n",
      "f\n",
      "f\n",
      "\n",
      "sd\n",
      "f\n",
      "f\n",
      "fsd\n",
      "ff\n"
     ]
    }
   ],
   "source": [
    "import time\n",
    "\n",
    "with open(r\"test01.txt\",'r') as f:\n",
    "    strChar = f.read(3)\n",
    "    while strChar:\n",
    "        print(strChar)\n",
    "        time.sleep(1)\n",
    "        strChar = f.read(3)"
   ]
  },
  {
   "cell_type": "code",
   "execution_count": 15,
   "metadata": {},
   "outputs": [
    {
     "name": "stdout",
     "output_type": "stream",
     "text": [
      "3\n",
      "das\n",
      "65\n",
      "drfsdtf\n",
      "sdfsdffg\n",
      "fsdf\n",
      "fsd\n",
      "fsdf\n",
      "fsdf\n",
      "f\n",
      "sdffsdffsdf\n",
      "f\n",
      "sdf\n",
      "ffsdff\n"
     ]
    }
   ],
   "source": [
    "# tell函数 用来显示文件读写指针的位置\n",
    "with open(r\"test01.txt\",'r') as f:\n",
    "    strChar = f.read(3)\n",
    "    pos = f.tell()\n",
    "    \n",
    "    while strChar:\n",
    "        print(pos)\n",
    "        print(strChar)\n",
    "        \n",
    "        strChar = f.read()\n",
    "        pos = f.tell()\n",
    "\n",
    "        "
   ]
  },
  {
   "cell_type": "markdown",
   "metadata": {},
   "source": [
    "# 文件的写操作\n",
    "- write（str）：把字符串写入文件\n",
    "- writelines(str)：把字符串按行写入文件\n",
    "- 区别：\n",
    "    - write函数参数只能是字符串\n",
    "    - writelines参数可以是字符串，也可以是字符序列"
   ]
  },
  {
   "cell_type": "code",
   "execution_count": 18,
   "metadata": {},
   "outputs": [],
   "source": [
    "with open(r\"test01.txt\",'a') as f:\n",
    "    f.write(\"几岁哦怕死啊噗 \\n大会精神的教案设计获得积极暗示\")"
   ]
  },
  {
   "cell_type": "code",
   "execution_count": 22,
   "metadata": {},
   "outputs": [],
   "source": [
    "with open(r\"test01.txt\",'a') as f:\n",
    "    f.writelines(\"\\n改革春风吹满地\")"
   ]
  },
  {
   "cell_type": "code",
   "execution_count": 25,
   "metadata": {},
   "outputs": [],
   "source": [
    "l = [\"I\",\"IOIO\",\"OOP\"]\n",
    "with open(r\"test01.txt\",'a') as f:\n",
    "    f.writelines(l)"
   ]
  },
  {
   "cell_type": "markdown",
   "metadata": {},
   "source": [
    "# 持久化 - pickle\n",
    "- 序列化（持久化、落地）：把程序运行中的信息保存在磁盘上\n",
    "- 反序列化\n",
    "- pickle：Python提供的序列化模块\n",
    "- pickle.dump 序列化\n",
    "- pickle.load 反序列化"
   ]
  },
  {
   "cell_type": "code",
   "execution_count": 33,
   "metadata": {},
   "outputs": [],
   "source": [
    "import pickle\n",
    "\n",
    "age = 19\n",
    "with open(r\"test01.txt\",'wb') as f:\n",
    "    pickle.dump(age,f)\n",
    "    \n"
   ]
  },
  {
   "cell_type": "code",
   "execution_count": 34,
   "metadata": {},
   "outputs": [
    {
     "name": "stdout",
     "output_type": "stream",
     "text": [
      "19\n"
     ]
    }
   ],
   "source": [
    "import pickle\n",
    "\n",
    "with open(r\"test01.txt\",'rb') as f:\n",
    "    age = pickle.load(f)\n",
    "    print(age)"
   ]
  },
  {
   "cell_type": "code",
   "execution_count": 37,
   "metadata": {},
   "outputs": [],
   "source": [
    "import pickle\n",
    "\n",
    "a = [19, 'kkk',\"i hate you\",[180,80]]\n",
    "\n",
    "with open(r\"test01.txt\",'wb') as f:\n",
    "    pickle.dump(a,f)\n",
    "    "
   ]
  },
  {
   "cell_type": "code",
   "execution_count": 38,
   "metadata": {},
   "outputs": [
    {
     "name": "stdout",
     "output_type": "stream",
     "text": [
      "[19, 'kkk', 'i hate you', [180, 80]]\n"
     ]
    }
   ],
   "source": [
    "with open(r\"test01.txt\",'rb') as f:\n",
    "    a = pickle.load(f)\n",
    "    print(a)"
   ]
  },
  {
   "cell_type": "markdown",
   "metadata": {},
   "source": [
    "# 持久化-shelve\n",
    "- 持久化工具\n",
    "- 类似字典，用kv对保存数据，存取方式跟字典类似\n",
    "- open close"
   ]
  },
  {
   "cell_type": "code",
   "execution_count": 41,
   "metadata": {},
   "outputs": [],
   "source": [
    "import shelve\n",
    "\n",
    "shv = shelve.open(r'shv.db')\n",
    "\n",
    "shv['one'] = 1\n",
    "shv['two'] = 2\n",
    "shv['three'] = 3\n",
    "\n",
    "shv.close()\n",
    "\n",
    "\n",
    "# 通过以上案例发现，shelve自动创建的不仅仅是一个shv.db文件，还包括其他"
   ]
  },
  {
   "cell_type": "code",
   "execution_count": 44,
   "metadata": {},
   "outputs": [
    {
     "name": "stdout",
     "output_type": "stream",
     "text": [
      "1\n",
      "凉凉\n"
     ]
    }
   ],
   "source": [
    "shv = shelve.open(r'shv.db')\n",
    "\n",
    "try:\n",
    "    print(shv['one'])\n",
    "    print(shv['too'])\n",
    "except Exception as e:\n",
    "    print(\"凉凉\")\n",
    "finally:\n",
    "    shv.close()"
   ]
  },
  {
   "cell_type": "markdown",
   "metadata": {},
   "source": [
    "# shelve特性\n",
    "- 不支持多个应用并行写入\n",
    "    - 为了解决这个问题，open的时候可以使用flag=r\n",
    "- 写回问题\n",
    "    - shelve默认情况下不会等待持久化对象进行任何修改\n",
    "    - 解决方法：强制写回：writeback=True"
   ]
  },
  {
   "cell_type": "code",
   "execution_count": 49,
   "metadata": {},
   "outputs": [
    {
     "name": "stdout",
     "output_type": "stream",
     "text": [
      "{'eins': 1, 'zwei': 2, 'drei': 3}\n"
     ]
    }
   ],
   "source": [
    "import shelve\n",
    "\n",
    "\n",
    "\n",
    "shv = shelve.open(r'shv.db')\n",
    "\n",
    "try:\n",
    "    shv['one'] = {\"eins\":1,\"zwei\":2,\"drei\":3}\n",
    "finally:\n",
    "    shv.close()\n",
    "    \n",
    "shv = shelve.open(r'shv.db')\n",
    "\n",
    "try:\n",
    "    one = shv['one']\n",
    "    print(one)\n",
    "finally:\n",
    "    shv.close()"
   ]
  },
  {
   "cell_type": "code",
   "execution_count": 54,
   "metadata": {},
   "outputs": [
    {
     "name": "stdout",
     "output_type": "stream",
     "text": [
      "{'eins': 1, 'zwei': 2, 'drei': 3}\n",
      "{'eins': 100, 'zwei': 2, 'drei': 3}\n"
     ]
    }
   ],
   "source": [
    "# shelve忘记写回，需要使用强制写回\n",
    "shv = shelve.open(r'shv.db',writeback=True)\n",
    "\n",
    "try:\n",
    "    k1 = shv['one']\n",
    "    print(k1)\n",
    "    # 此时，一旦shelve关闭，则内容还是存在内存中，没有写回数据库\n",
    "    k1[\"eins\"] = 100\n",
    "finally:\n",
    "    shv.close()\n",
    "    \n",
    "shv = shelve.open(r'shv.db')\n",
    "\n",
    "try:\n",
    "    k1 = shv['one']\n",
    "    print(k1)\n",
    "finally:\n",
    "    shv.close()"
   ]
  },
  {
   "cell_type": "code",
   "execution_count": 55,
   "metadata": {},
   "outputs": [
    {
     "name": "stdout",
     "output_type": "stream",
     "text": [
      "{'eins': 100, 'zwei': 2, 'drei': 3}\n",
      "{'eins': 1000, 'zwei': 2, 'drei': 3}\n"
     ]
    }
   ],
   "source": [
    "# shelve 使用with管理上下文环境\n",
    "\n",
    "with shelve.open(r'shv.db',writeback=True) as shv:\n",
    "    k1 = shv['one']\n",
    "    print(k1)\n",
    "    k1[\"eins\"] = 1000\n",
    "    \n",
    "    \n",
    "with shelve.open(r'shv.db') as shv:\n",
    "    print(shv['one'])"
   ]
  }
 ],
 "metadata": {
  "kernelspec": {
   "display_name": "Python 3",
   "language": "python",
   "name": "python3"
  },
  "language_info": {
   "codemirror_mode": {
    "name": "ipython",
    "version": 3
   },
   "file_extension": ".py",
   "mimetype": "text/x-python",
   "name": "python",
   "nbconvert_exporter": "python",
   "pygments_lexer": "ipython3",
   "version": "3.7.0"
  }
 },
 "nbformat": 4,
 "nbformat_minor": 2
}
