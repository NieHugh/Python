{
 "cells": [
  {
   "cell_type": "markdown",
   "metadata": {},
   "source": [
    "# 异常\n",
    "- 广义上的错误分为错误和异常\n",
    "- 错误指的是可以认为避免\n",
    "- 异常是指在语法逻辑正确的前提下出现的问题\n",
    "- 在Python里，异常是一个类，可以处理和使用"
   ]
  },
  {
   "cell_type": "markdown",
   "metadata": {},
   "source": [
    "# 异常处理\n",
    "- 不能保证程序永远正确处理\n",
    "- 必须保证程序在最坏的情况下得到的问题被妥善处理\n",
    "- Python的异常处理模块全部语法为\n",
    "\n",
    "            try:\n",
    "                尝试实现某个操作\n",
    "                如果没出现异常，任务可以完成\n",
    "                如果出现异常，将异常从当前代码扔出去尝试解决异常\n",
    "            \n",
    "            except 异常类型x:\n",
    "                解决方案x：用于尝试在此处处理异常解决问题\n",
    "            except (异常类型1，异常类型2...):\n",
    "                解决方案：针对多个异常使用相同的处理方式\n",
    "\n",
    "            except:\n",
    "                解决方案:所有异常的解决方案\n",
    "            else:\n",
    "                如果没有出现异常，将会执行此处代码\n",
    "            finally:\n",
    "                无论是否存在异常都要执行的代码\n",
    "                \n",
    "- 流程：\n",
    "    1. 执行try下面的语句\n",
    "    2. 如果出现异常，则在except语句里查找对应异常并进行处理\n",
    "    3. 如果没有出现异常，则执行else语句内容\n",
    "    4. 最后，不管是否出现异常，都要执行finally语句\n",
    "- 除except（最少一个）以外，else和finally可选"
   ]
  },
  {
   "cell_type": "code",
   "execution_count": null,
   "metadata": {},
   "outputs": [],
   "source": [
    "# 简单异常处理例子\n",
    "try:\n",
    "    num = int(input(\"input you number:\"))\n",
    "    rst = 100/num\n",
    "    print(\"计算结果是：{0}\".format(rst))\n",
    "# 捕获异常后，把异常实例化，出错信息就在实例中\n",
    "except ZeroDivisionError as e:\n",
    "    print(\"你特么输入的是啥啊，也忒损了\")\n",
    "    print(e)\n",
    "    exit()"
   ]
  },
  {
   "cell_type": "code",
   "execution_count": 3,
   "metadata": {},
   "outputs": [
    {
     "name": "stdout",
     "output_type": "stream",
     "text": [
      "input you number:\n",
      "Emmmmmmm\n",
      "invalid literal for int() with base 10: ''\n"
     ]
    }
   ],
   "source": [
    "# 简单异常处理例子\n",
    "try:\n",
    "    num = int(input(\"input you number:\"))\n",
    "    rst = 100/num\n",
    "    print(\"计算结果是：{0}\".format(rst))\n",
    "# 捕获异常后，把异常实例化，出错信息就在实例中\n",
    "except ZeroDivisionError as e:\n",
    "    print(\"你特么输入的是啥啊，也忒损了\")\n",
    "    print(e)\n",
    "    exit()\n",
    "except NameError as e:\n",
    "    print(\"手残了\")\n",
    "    print(e)\n",
    "    exit()\n",
    "except AttributeError as e:\n",
    "    print(\"你玩的啥啊\")\n",
    "    print(e)\n",
    "    exit()\n",
    "except Exception as e:\n",
    "    print(\"Emmmmmmm\")\n",
    "    print(e)"
   ]
  },
  {
   "cell_type": "markdown",
   "metadata": {},
   "source": [
    "# 用户手动引发异常\n",
    "- 当某些情况，用户希望自己引发一个异常的时候，可以使用\n",
    "- raise关键字来引发异常"
   ]
  },
  {
   "cell_type": "code",
   "execution_count": 5,
   "metadata": {},
   "outputs": [
    {
     "name": "stdout",
     "output_type": "stream",
     "text": [
      "7984654\n",
      "4654650\n",
      "ValueError\n",
      "碍不着我\n"
     ]
    }
   ],
   "source": [
    "4# raise案例\n",
    "try:\n",
    "    print(\"7984654\")\n",
    "    print(4654650)\n",
    "    \n",
    "    # 手动引发异常\n",
    "    #语法： raise ErrorClassName\n",
    "    raise ValueError\n",
    "    print(\"还没完\")\n",
    "except NameError as e:\n",
    "    print(\"NameError\")\n",
    "except ValueError as e:\n",
    "    print(\"ValueError\")\n",
    "except Exception as e:\n",
    "    print(\"异常\")\n",
    "finally:\n",
    "    print(\"碍不着我\")"
   ]
  },
  {
   "cell_type": "code",
   "execution_count": 8,
   "metadata": {},
   "outputs": [
    {
     "name": "stdout",
     "output_type": "stream",
     "text": [
      "7984654\n",
      "4654650\n",
      "DaError\n",
      "碍不着我\n"
     ]
    }
   ],
   "source": [
    "# 自己定义子类\n",
    "# 自定义异常必须是系统异常的子类\n",
    "class DaError(ValueError):\n",
    "    pass\n",
    "\n",
    "try:\n",
    "    print(\"7984654\")\n",
    "    print(4654650)\n",
    "    \n",
    "    # 手动引发异常\n",
    "    #语法： raise ErrorClassName\n",
    "    raise DaError\n",
    "    print(\"还没完\")\n",
    "except NameError as e:\n",
    "    print(\"NameError\")\n",
    "except DaError as e:\n",
    "    print(\"DaError\")\n",
    "except Exception as e:\n",
    "    print(\"异常\")\n",
    "finally:\n",
    "    print(\"碍不着我\")"
   ]
  },
  {
   "cell_type": "code",
   "execution_count": 10,
   "metadata": {},
   "outputs": [
    {
     "name": "stdout",
     "output_type": "stream",
     "text": [
      "input you number:\n",
      "Exception\n",
      "浪里格朗\n"
     ]
    }
   ],
   "source": [
    "# else案例\n",
    "try:\n",
    "    num = int(input(\"input you number:\"))\n",
    "    rst = 100/num\n",
    "    print(\"计算结果是：{0}\".format(rst))\n",
    "except Exception as e:\n",
    "    print(\"Exception\")\n",
    "else:\n",
    "    print(\"No Exception\")\n",
    "finally:\n",
    "    print(\"浪里格朗\")"
   ]
  },
  {
   "cell_type": "markdown",
   "metadata": {},
   "source": [
    "# 关于自定义异常\n",
    "- 只要是raise异常，则推荐使用自定义异常\n",
    "- 在自定义异常的时候，一般包括以下内容\n",
    "    - 自定义发生异常的异常代码\n",
    "    - 自定义发生异常后的问题提示\n",
    "    - 自定义发生异常的行数"
   ]
  }
 ],
 "metadata": {
  "kernelspec": {
   "display_name": "Python 3",
   "language": "python",
   "name": "python3"
  },
  "language_info": {
   "codemirror_mode": {
    "name": "ipython",
    "version": 3
   },
   "file_extension": ".py",
   "mimetype": "text/x-python",
   "name": "python",
   "nbconvert_exporter": "python",
   "pygments_lexer": "ipython3",
   "version": "3.7.0"
  }
 },
 "nbformat": 4,
 "nbformat_minor": 2
}
