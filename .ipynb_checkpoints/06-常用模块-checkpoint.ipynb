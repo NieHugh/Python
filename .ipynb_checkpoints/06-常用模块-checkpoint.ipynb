{
 "cells": [
  {
   "cell_type": "markdown",
   "metadata": {},
   "source": [
    "# 常用模块\n",
    "- calendar\n",
    "- time\n",
    "- datatime\n",
    "- timeit\n",
    "- os\n",
    "- shutil\n",
    "- zip\n",
    "- math\n",
    "- string\n",
    "- 上述模块使用时，都应该先导入，string是特例\n",
    "- calendar,time,datatime的区别参照中文"
   ]
  },
  {
   "cell_type": "markdown",
   "metadata": {},
   "source": [
    "# calendar\n",
    "- 跟日历相关的模块"
   ]
  },
  {
   "cell_type": "code",
   "execution_count": 3,
   "metadata": {},
   "outputs": [
    {
     "name": "stdout",
     "output_type": "stream",
     "text": [
      "<class 'str'>\n",
      "                                  2018\n",
      "\n",
      "      January                   February                   March\n",
      "Mo Tu We Th Fr Sa Su      Mo Tu We Th Fr Sa Su      Mo Tu We Th Fr Sa Su\n",
      " 1  2  3  4  5  6  7                1  2  3  4                1  2  3  4\n",
      " 8  9 10 11 12 13 14       5  6  7  8  9 10 11       5  6  7  8  9 10 11\n",
      "15 16 17 18 19 20 21      12 13 14 15 16 17 18      12 13 14 15 16 17 18\n",
      "22 23 24 25 26 27 28      19 20 21 22 23 24 25      19 20 21 22 23 24 25\n",
      "29 30 31                  26 27 28                  26 27 28 29 30 31\n",
      "\n",
      "       April                      May                       June\n",
      "Mo Tu We Th Fr Sa Su      Mo Tu We Th Fr Sa Su      Mo Tu We Th Fr Sa Su\n",
      "                   1          1  2  3  4  5  6                   1  2  3\n",
      " 2  3  4  5  6  7  8       7  8  9 10 11 12 13       4  5  6  7  8  9 10\n",
      " 9 10 11 12 13 14 15      14 15 16 17 18 19 20      11 12 13 14 15 16 17\n",
      "16 17 18 19 20 21 22      21 22 23 24 25 26 27      18 19 20 21 22 23 24\n",
      "23 24 25 26 27 28 29      28 29 30 31               25 26 27 28 29 30\n",
      "30\n",
      "\n",
      "        July                     August                  September\n",
      "Mo Tu We Th Fr Sa Su      Mo Tu We Th Fr Sa Su      Mo Tu We Th Fr Sa Su\n",
      "                   1             1  2  3  4  5                      1  2\n",
      " 2  3  4  5  6  7  8       6  7  8  9 10 11 12       3  4  5  6  7  8  9\n",
      " 9 10 11 12 13 14 15      13 14 15 16 17 18 19      10 11 12 13 14 15 16\n",
      "16 17 18 19 20 21 22      20 21 22 23 24 25 26      17 18 19 20 21 22 23\n",
      "23 24 25 26 27 28 29      27 28 29 30 31            24 25 26 27 28 29 30\n",
      "30 31\n",
      "\n",
      "      October                   November                  December\n",
      "Mo Tu We Th Fr Sa Su      Mo Tu We Th Fr Sa Su      Mo Tu We Th Fr Sa Su\n",
      " 1  2  3  4  5  6  7                1  2  3  4                      1  2\n",
      " 8  9 10 11 12 13 14       5  6  7  8  9 10 11       3  4  5  6  7  8  9\n",
      "15 16 17 18 19 20 21      12 13 14 15 16 17 18      10 11 12 13 14 15 16\n",
      "22 23 24 25 26 27 28      19 20 21 22 23 24 25      17 18 19 20 21 22 23\n",
      "29 30 31                  26 27 28 29 30            24 25 26 27 28 29 30\n",
      "                                                    31\n",
      "\n"
     ]
    }
   ],
   "source": [
    "import calendar\n",
    "# calendar 获取一年的日历字符串\n",
    "# w 每个日期之间的间隔字符数\n",
    "# l 每周所占用的行数\n",
    "# c 每个月之间的间隔字符数\n",
    "cal = calendar.calendar(2018)\n",
    "print(type(cal))\n",
    "print(cal)"
   ]
  },
  {
   "cell_type": "code",
   "execution_count": 8,
   "metadata": {},
   "outputs": [
    {
     "name": "stdout",
     "output_type": "stream",
     "text": [
      "                              2017\n",
      "\n",
      "      January               February               March\n",
      "Mo Tu We Th Fr Sa Su  Mo Tu We Th Fr Sa Su  Mo Tu We Th Fr Sa Su\n",
      "                   1         1  2  3  4  5         1  2  3  4  5\n",
      " 2  3  4  5  6  7  8   6  7  8  9 10 11 12   6  7  8  9 10 11 12\n",
      " 9 10 11 12 13 14 15  13 14 15 16 17 18 19  13 14 15 16 17 18 19\n",
      "16 17 18 19 20 21 22  20 21 22 23 24 25 26  20 21 22 23 24 25 26\n",
      "23 24 25 26 27 28 29  27 28                 27 28 29 30 31\n",
      "30 31\n",
      "\n",
      "       April                  May                   June\n",
      "Mo Tu We Th Fr Sa Su  Mo Tu We Th Fr Sa Su  Mo Tu We Th Fr Sa Su\n",
      "                1  2   1  2  3  4  5  6  7            1  2  3  4\n",
      " 3  4  5  6  7  8  9   8  9 10 11 12 13 14   5  6  7  8  9 10 11\n",
      "10 11 12 13 14 15 16  15 16 17 18 19 20 21  12 13 14 15 16 17 18\n",
      "17 18 19 20 21 22 23  22 23 24 25 26 27 28  19 20 21 22 23 24 25\n",
      "24 25 26 27 28 29 30  29 30 31              26 27 28 29 30\n",
      "\n",
      "        July                 August              September\n",
      "Mo Tu We Th Fr Sa Su  Mo Tu We Th Fr Sa Su  Mo Tu We Th Fr Sa Su\n",
      "                1  2      1  2  3  4  5  6               1  2  3\n",
      " 3  4  5  6  7  8  9   7  8  9 10 11 12 13   4  5  6  7  8  9 10\n",
      "10 11 12 13 14 15 16  14 15 16 17 18 19 20  11 12 13 14 15 16 17\n",
      "17 18 19 20 21 22 23  21 22 23 24 25 26 27  18 19 20 21 22 23 24\n",
      "24 25 26 27 28 29 30  28 29 30 31           25 26 27 28 29 30\n",
      "31\n",
      "\n",
      "      October               November              December\n",
      "Mo Tu We Th Fr Sa Su  Mo Tu We Th Fr Sa Su  Mo Tu We Th Fr Sa Su\n",
      "                   1         1  2  3  4  5               1  2  3\n",
      " 2  3  4  5  6  7  8   6  7  8  9 10 11 12   4  5  6  7  8  9 10\n",
      " 9 10 11 12 13 14 15  13 14 15 16 17 18 19  11 12 13 14 15 16 17\n",
      "16 17 18 19 20 21 22  20 21 22 23 24 25 26  18 19 20 21 22 23 24\n",
      "23 24 25 26 27 28 29  27 28 29 30           25 26 27 28 29 30 31\n",
      "30 31\n",
      "\n"
     ]
    }
   ],
   "source": [
    "cal = calendar.calendar(2017,l=0,c=0)\n",
    "print(cal)"
   ]
  },
  {
   "cell_type": "code",
   "execution_count": 10,
   "metadata": {},
   "outputs": [
    {
     "data": {
      "text/plain": [
       "True"
      ]
     },
     "execution_count": 10,
     "metadata": {},
     "output_type": "execute_result"
    }
   ],
   "source": [
    "# isleap  判断某一年是否闰年\n",
    "calendar.isleap(2000)"
   ]
  },
  {
   "cell_type": "code",
   "execution_count": 12,
   "metadata": {},
   "outputs": [
    {
     "data": {
      "text/plain": [
       "5"
      ]
     },
     "execution_count": 12,
     "metadata": {},
     "output_type": "execute_result"
    }
   ],
   "source": [
    "#leapdays 获取指定年份之间 闰年的个数\n",
    "\n",
    "calendar.leapdays(2000,2018)"
   ]
  },
  {
   "cell_type": "code",
   "execution_count": 15,
   "metadata": {},
   "outputs": [
    {
     "name": "stdout",
     "output_type": "stream",
     "text": [
      "Help on function leapdays in module calendar:\n",
      "\n",
      "leapdays(y1, y2)\n",
      "    Return number of leap years in range [y1, y2).\n",
      "    Assume y1 <= y2.\n",
      "\n"
     ]
    }
   ],
   "source": [
    "help(calendar.leapdays)"
   ]
  },
  {
   "cell_type": "code",
   "execution_count": 17,
   "metadata": {},
   "outputs": [
    {
     "name": "stdout",
     "output_type": "stream",
     "text": [
      "   December 2018\n",
      "Mo Tu We Th Fr Sa Su\n",
      "                1  2\n",
      " 3  4  5  6  7  8  9\n",
      "10 11 12 13 14 15 16\n",
      "17 18 19 20 21 22 23\n",
      "24 25 26 27 28 29 30\n",
      "31\n",
      "\n"
     ]
    }
   ],
   "source": [
    "# month 获取某个月的日历字符串\n",
    "# 格式 calendar.month(年，月)\n",
    "# 返回月日历的字符串\n",
    "m4 = calendar.month(2018,12)\n",
    "print(m4)"
   ]
  },
  {
   "cell_type": "code",
   "execution_count": 21,
   "metadata": {},
   "outputs": [
    {
     "name": "stdout",
     "output_type": "stream",
     "text": [
      "(5, 31)\n",
      "5\n",
      "31\n"
     ]
    }
   ],
   "source": [
    "# monthrange 获取一个月的第一个是周几和天数\n",
    "# 格式 calendar.monthrange(year,month)\n",
    "# 返回元祖（周几，天数）\n",
    "# 0-6表示周一-周日\n",
    "t = calendar.monthrange(2018,12)\n",
    "m,n = calendar.monthrange(2018,12)\n",
    "print(t)\n",
    "print(m)\n",
    "print(n)"
   ]
  },
  {
   "cell_type": "code",
   "execution_count": 24,
   "metadata": {},
   "outputs": [
    {
     "name": "stdout",
     "output_type": "stream",
     "text": [
      "[[0, 0, 0, 0, 0, 1, 2], [3, 4, 5, 6, 7, 8, 9], [10, 11, 12, 13, 14, 15, 16], [17, 18, 19, 20, 21, 22, 23], [24, 25, 26, 27, 28, 29, 30], [31, 0, 0, 0, 0, 0, 0]]\n"
     ]
    }
   ],
   "source": [
    "# monthcalendar 返回一个月每天的矩阵列表\n",
    "# 格式 calendar.monthcalendar(year,month)\n",
    "# 返回二级矩阵\n",
    "# 没有的天数用0表示\n",
    "m = calendar.monthcalendar(2018,12)\n",
    "print(m)"
   ]
  },
  {
   "cell_type": "code",
   "execution_count": 27,
   "metadata": {},
   "outputs": [
    {
     "name": "stdout",
     "output_type": "stream",
     "text": [
      "                                  2018\n",
      "\n",
      "      January                   February                   March\n",
      "Mo Tu We Th Fr Sa Su      Mo Tu We Th Fr Sa Su      Mo Tu We Th Fr Sa Su\n",
      " 1  2  3  4  5  6  7                1  2  3  4                1  2  3  4\n",
      " 8  9 10 11 12 13 14       5  6  7  8  9 10 11       5  6  7  8  9 10 11\n",
      "15 16 17 18 19 20 21      12 13 14 15 16 17 18      12 13 14 15 16 17 18\n",
      "22 23 24 25 26 27 28      19 20 21 22 23 24 25      19 20 21 22 23 24 25\n",
      "29 30 31                  26 27 28                  26 27 28 29 30 31\n",
      "\n",
      "       April                      May                       June\n",
      "Mo Tu We Th Fr Sa Su      Mo Tu We Th Fr Sa Su      Mo Tu We Th Fr Sa Su\n",
      "                   1          1  2  3  4  5  6                   1  2  3\n",
      " 2  3  4  5  6  7  8       7  8  9 10 11 12 13       4  5  6  7  8  9 10\n",
      " 9 10 11 12 13 14 15      14 15 16 17 18 19 20      11 12 13 14 15 16 17\n",
      "16 17 18 19 20 21 22      21 22 23 24 25 26 27      18 19 20 21 22 23 24\n",
      "23 24 25 26 27 28 29      28 29 30 31               25 26 27 28 29 30\n",
      "30\n",
      "\n",
      "        July                     August                  September\n",
      "Mo Tu We Th Fr Sa Su      Mo Tu We Th Fr Sa Su      Mo Tu We Th Fr Sa Su\n",
      "                   1             1  2  3  4  5                      1  2\n",
      " 2  3  4  5  6  7  8       6  7  8  9 10 11 12       3  4  5  6  7  8  9\n",
      " 9 10 11 12 13 14 15      13 14 15 16 17 18 19      10 11 12 13 14 15 16\n",
      "16 17 18 19 20 21 22      20 21 22 23 24 25 26      17 18 19 20 21 22 23\n",
      "23 24 25 26 27 28 29      27 28 29 30 31            24 25 26 27 28 29 30\n",
      "30 31\n",
      "\n",
      "      October                   November                  December\n",
      "Mo Tu We Th Fr Sa Su      Mo Tu We Th Fr Sa Su      Mo Tu We Th Fr Sa Su\n",
      " 1  2  3  4  5  6  7                1  2  3  4                      1  2\n",
      " 8  9 10 11 12 13 14       5  6  7  8  9 10 11       3  4  5  6  7  8  9\n",
      "15 16 17 18 19 20 21      12 13 14 15 16 17 18      10 11 12 13 14 15 16\n",
      "22 23 24 25 26 27 28      19 20 21 22 23 24 25      17 18 19 20 21 22 23\n",
      "29 30 31                  26 27 28 29 30            24 25 26 27 28 29 30\n",
      "                                                    31\n",
      "Help on method pryear in module calendar:\n",
      "\n",
      "pryear(theyear, w=0, l=0, c=6, m=3) method of calendar.TextCalendar instance\n",
      "    Print a year's calendar.\n",
      "\n"
     ]
    }
   ],
   "source": [
    "# prcal 直接打印日历\n",
    "calendar.prcal(2018)\n",
    "help(calendar.prcal)"
   ]
  },
  {
   "cell_type": "code",
   "execution_count": 29,
   "metadata": {},
   "outputs": [
    {
     "name": "stdout",
     "output_type": "stream",
     "text": [
      "   December 2018\n",
      "Mo Tu We Th Fr Sa Su\n",
      "                1  2\n",
      " 3  4  5  6  7  8  9\n",
      "10 11 12 13 14 15 16\n",
      "17 18 19 20 21 22 23\n",
      "24 25 26 27 28 29 30\n",
      "31\n"
     ]
    }
   ],
   "source": [
    "# prmonth 直接打印整个月\n",
    "calendar.prmonth(2018,12)"
   ]
  },
  {
   "cell_type": "code",
   "execution_count": 31,
   "metadata": {},
   "outputs": [
    {
     "data": {
      "text/plain": [
       "4"
      ]
     },
     "execution_count": 31,
     "metadata": {},
     "output_type": "execute_result"
    }
   ],
   "source": [
    "# weekday 获取周几\n",
    "# calendar.weekday(year,month,day)\n",
    "calendar.weekday(2018,12,14)"
   ]
  },
  {
   "cell_type": "markdown",
   "metadata": {},
   "source": [
    "\n",
    "# time模块\n",
    "### 时间戳\n",
    "    - 一个时间表示，根据不同语言，可以是整数或者浮点数\n",
    "    - 是从1970年1月1日0时0分0秒到现在经历的时间秒数\n",
    "    - 如果表示的时间是1970年以前或太遥远的未来，可能出现异常\n",
    "    - 32位操作系统能够支持到2038年\n",
    "### UTC时间\n",
    "    - 时间协调时间\n",
    "    - UTC+8\n",
    "### 夏令时\n",
    "    - 夏令时就是夏天时间调快一个小时\n",
    "### 时间元祖\n",
    "    - 一个包含时间内容的普通元祖\n",
    "    "
   ]
  },
  {
   "cell_type": "code",
   "execution_count": 34,
   "metadata": {},
   "outputs": [
    {
     "name": "stdout",
     "output_type": "stream",
     "text": [
      "-28800\n",
      "0\n"
     ]
    }
   ],
   "source": [
    "# 需要单独导入\n",
    "import time\n",
    "# 时间模块的属性\n",
    "# timezone 当前时区和UTC相差的秒数,无夏令时\n",
    "# altzone 当前时区和UTC相差的秒数，有夏令时\n",
    "# daylight 检测当前是否有夏令时，0表示是\n",
    "print(time.timezone)\n",
    "print(time.daylight)"
   ]
  },
  {
   "cell_type": "code",
   "execution_count": 35,
   "metadata": {},
   "outputs": [
    {
     "data": {
      "text/plain": [
       "1544755174.9838746"
      ]
     },
     "execution_count": 35,
     "metadata": {},
     "output_type": "execute_result"
    }
   ],
   "source": [
    "# 得到时间戳\n",
    "time.time()"
   ]
  },
  {
   "cell_type": "code",
   "execution_count": 37,
   "metadata": {},
   "outputs": [
    {
     "name": "stdout",
     "output_type": "stream",
     "text": [
      "time.struct_time(tm_year=2018, tm_mon=12, tm_mday=14, tm_hour=10, tm_min=41, tm_sec=43, tm_wday=4, tm_yday=348, tm_isdst=0)\n",
      "10\n"
     ]
    }
   ],
   "source": [
    "# 得到当前时间的时间结构\n",
    "# 可以通过点号操作符得到相应的属性元素的内容\n",
    "t = time.localtime()\n",
    "print(t)\n",
    "print(t.tm_hour)"
   ]
  },
  {
   "cell_type": "code",
   "execution_count": 38,
   "metadata": {},
   "outputs": [
    {
     "name": "stdout",
     "output_type": "stream",
     "text": [
      "<class 'str'>\n",
      "Fri Dec 14 10:45:32 2018\n"
     ]
    }
   ],
   "source": [
    "# asctime() 返回元祖的正常字符串之后的时间格式\n",
    "# 格式 time.asctime(时间元祖)\n",
    "# 返回值 字符串 Tue Jun 6 11:11:00 2017\n",
    "t = time.localtime()\n",
    "\n",
    "tt = time.asctime(t)\n",
    "print(type(tt))\n",
    "print(tt)"
   ]
  },
  {
   "cell_type": "code",
   "execution_count": 39,
   "metadata": {},
   "outputs": [
    {
     "name": "stdout",
     "output_type": "stream",
     "text": [
      "<class 'str'>\n",
      "Fri Dec 14 10:46:57 2018\n"
     ]
    }
   ],
   "source": [
    "# ctime 获取字符串化的当前时间\n",
    "t = time.ctime()\n",
    "print(type(t))\n",
    "print(t)"
   ]
  },
  {
   "cell_type": "code",
   "execution_count": 40,
   "metadata": {},
   "outputs": [
    {
     "name": "stdout",
     "output_type": "stream",
     "text": [
      "<class 'float'>\n",
      "1544755756.0\n"
     ]
    }
   ],
   "source": [
    "# mktime 使用时间元祖获取对应的时间戳\n",
    "# 格式 time.mktime(时间元祖)\n",
    "# 返回浮点数时间戳\n",
    "lt = time.localtime()\n",
    "ts = time.mktime(lt)\n",
    "print(type(ts))\n",
    "print(ts)"
   ]
  },
  {
   "cell_type": "code",
   "execution_count": 43,
   "metadata": {
    "collapsed": true
   },
   "outputs": [
    {
     "name": "stdout",
     "output_type": "stream",
     "text": [
      "0\n",
      "1\n",
      "2\n",
      "3\n",
      "4\n",
      "5\n",
      "6\n",
      "7\n",
      "8\n",
      "9\n"
     ]
    }
   ],
   "source": [
    "# clock 获取cpu时间 \n",
    "# sleep 使程序进入睡眠，n秒继续\n",
    "\n",
    "for i in range(10):\n",
    "    print(i)\n",
    "    time.sleep(1)"
   ]
  },
  {
   "cell_type": "code",
   "execution_count": 46,
   "metadata": {},
   "outputs": [
    {
     "name": "stdout",
     "output_type": "stream",
     "text": [
      "0.0017659329999999418\n"
     ]
    }
   ],
   "source": [
    "def p():\n",
    "    time.sleep(2.5)\n",
    "t0 = time.process_time()\n",
    "\n",
    "time.sleep(3)\n",
    "t1 = time.process_time()\n",
    "\n",
    "print(t1 - t0)"
   ]
  },
  {
   "cell_type": "code",
   "execution_count": 47,
   "metadata": {},
   "outputs": [
    {
     "name": "stdout",
     "output_type": "stream",
     "text": [
      "2018年12月14日 11:43:19\n"
     ]
    }
   ],
   "source": [
    "# strftime 将时间元祖转化为自定义的字符串格式\n",
    "\n",
    "t = time.localtime()\n",
    "ft = time.strftime(\"%Y年%m月%d日 %H:%M:%S\",t)\n",
    "print(ft)"
   ]
  },
  {
   "cell_type": "markdown",
   "metadata": {},
   "source": [
    "# datetime模块\n",
    "- datetime 提供日期时间的运算和表示"
   ]
  },
  {
   "cell_type": "code",
   "execution_count": 53,
   "metadata": {},
   "outputs": [
    {
     "name": "stdout",
     "output_type": "stream",
     "text": [
      "2018-12-14\n",
      "14\n",
      "2018\n",
      "12\n"
     ]
    }
   ],
   "source": [
    "import datetime\n",
    "# datetime.data 一个理想的日期，提供year,month,day属性\n",
    "dt = datetime.date(2018,12,14)\n",
    "print(dt)\n",
    "print(dt.day)\n",
    "print(dt.year)\n",
    "print(dt.month)\n",
    "# datetime.time 提供一个理想的时间，提供hour,minute,sec,microsec\n",
    "# datetime.datetime 提供日期时间的组合\n",
    "# datetime.timedelta 提供一个时间差，时间长度"
   ]
  },
  {
   "cell_type": "code",
   "execution_count": 56,
   "metadata": {},
   "outputs": [
    {
     "name": "stdout",
     "output_type": "stream",
     "text": [
      "2018-12-14 11:54:16.646401\n",
      "2018-12-14 11:54:16.646548\n",
      "2018-12-14 11:54:16.646629\n"
     ]
    }
   ],
   "source": [
    "# datetime.datetime\n",
    "\n",
    "from datetime import datetime\n",
    "dt = datetime(2018,12,14)\n",
    "print(dt.today())\n",
    "print(dt.now())\n",
    "\n",
    "print(dt.fromtimestamp(time.time()))"
   ]
  },
  {
   "cell_type": "code",
   "execution_count": 58,
   "metadata": {},
   "outputs": [
    {
     "name": "stdout",
     "output_type": "stream",
     "text": [
      "2018-12-14 11:57:06.120896\n",
      "2018-12-14 11:57:06\n",
      "2018-12-14 12:57:06\n"
     ]
    }
   ],
   "source": [
    "# datetime.timedelta\n",
    "# 表示一个时间间隔\n",
    "\n",
    "from datetime import datetime, timedelta\n",
    "\n",
    "t1 = datetime.now()\n",
    "print(t1)\n",
    "print(t1.strftime(\"%Y-%m-%d %H:%M:%S\"))\n",
    "\n",
    "td = timedelta(hours =1)\n",
    "print((t1+td).strftime(\"%Y-%m-%d %H:%M:%S\"))"
   ]
  },
  {
   "cell_type": "code",
   "execution_count": 60,
   "metadata": {},
   "outputs": [
    {
     "name": "stdout",
     "output_type": "stream",
     "text": [
      "3.6039047241210938\n"
     ]
    }
   ],
   "source": [
    "# timeit 时间测量工具\n",
    "# 测量程序运行时间间隔\n",
    "def p():\n",
    "    time.sleep(3.6)\n",
    "    \n",
    "t1 = time.time()\n",
    "p()\n",
    "print(time.time() - t1)"
   ]
  },
  {
   "cell_type": "code",
   "execution_count": 68,
   "metadata": {},
   "outputs": [
    {
     "name": "stdout",
     "output_type": "stream",
     "text": [
      "2.7572280790009245\n",
      "6.477457412000149\n"
     ]
    }
   ],
   "source": [
    "# 生成列表的两种方法的比较\n",
    "# 如果单纯比较生成一个列表的时间，可能很难实现\n",
    "import timeit\n",
    "c = '''\n",
    "sum = []\n",
    "for i in range(1000):\n",
    "    sum.append(i)\n",
    "'''\n",
    "\n",
    "# 利用timeit调用代码，执行100000次，查看运行时间\n",
    "t1 = timeit.timeit(stmt=\"[i for i in range(1000)]\",number=100000)\n",
    "# 测量代码C执行100000次运行结果\n",
    "t2 = timeit.timeit(stmt=c,number=100000)\n",
    "print(t1)\n",
    "print(t2)"
   ]
  },
  {
   "cell_type": "code",
   "execution_count": 71,
   "metadata": {},
   "outputs": [
    {
     "name": "stdout",
     "output_type": "stream",
     "text": [
      "Repeat for 0\n",
      "Repeat for 1\n",
      "Repeat for 2\n",
      "Repeat for 0\n",
      "Repeat for 1\n",
      "Repeat for 2\n",
      "Repeat for 0\n",
      "Repeat for 1\n",
      "Repeat for 2\n",
      "Repeat for 0\n",
      "Repeat for 1\n",
      "Repeat for 2\n",
      "Repeat for 0\n",
      "Repeat for 1\n",
      "Repeat for 2\n",
      "Repeat for 0\n",
      "Repeat for 1\n",
      "Repeat for 2\n",
      "Repeat for 0\n",
      "Repeat for 1\n",
      "Repeat for 2\n",
      "Repeat for 0\n",
      "Repeat for 1\n",
      "Repeat for 2\n",
      "Repeat for 0\n",
      "Repeat for 1\n",
      "Repeat for 2\n",
      "Repeat for 0\n",
      "Repeat for 1\n",
      "Repeat for 2\n",
      "0.0009309100005339133\n"
     ]
    }
   ],
   "source": [
    "# timeit 可以执行一个函数，来测量一个函数的执行时间\n",
    "def doIt():\n",
    "    num =3\n",
    "    for i in range(num):\n",
    "        print(\"Repeat for {0}\".format(i))\n",
    "        \n",
    "t = timeit.timeit(stmt = doIt,number=10)\n",
    "print(t)"
   ]
  },
  {
   "cell_type": "code",
   "execution_count": 1,
   "metadata": {},
   "outputs": [
    {
     "ename": "NameError",
     "evalue": "name 'timeit' is not defined",
     "output_type": "error",
     "traceback": [
      "\u001b[0;31m---------------------------------------------------------------------------\u001b[0m",
      "\u001b[0;31mNameError\u001b[0m                                 Traceback (most recent call last)",
      "\u001b[0;32m<ipython-input-1-105ebf993b09>\u001b[0m in \u001b[0;36m<module>\u001b[0;34m()\u001b[0m\n\u001b[1;32m      7\u001b[0m \u001b[0;34m\u001b[0m\u001b[0m\n\u001b[1;32m      8\u001b[0m \u001b[0;31m# setup负责把环境变量准备好\u001b[0m\u001b[0;34m\u001b[0m\u001b[0;34m\u001b[0m\u001b[0m\n\u001b[0;32m----> 9\u001b[0;31m \u001b[0mt\u001b[0m \u001b[0;34m=\u001b[0m \u001b[0mtimeit\u001b[0m\u001b[0;34m.\u001b[0m\u001b[0mtimeit\u001b[0m\u001b[0;34m(\u001b[0m\u001b[0;34m\"doIt(num)\"\u001b[0m\u001b[0;34m,\u001b[0m\u001b[0msetup\u001b[0m\u001b[0;34m=\u001b[0m\u001b[0ms\u001b[0m\u001b[0;34m+\u001b[0m\u001b[0;34m\"num=3\"\u001b[0m\u001b[0;34m,\u001b[0m\u001b[0mnumber\u001b[0m\u001b[0;34m=\u001b[0m\u001b[0;36m10\u001b[0m\u001b[0;34m)\u001b[0m\u001b[0;34m\u001b[0m\u001b[0m\n\u001b[0m\u001b[1;32m     10\u001b[0m \u001b[0mprint\u001b[0m\u001b[0;34m(\u001b[0m\u001b[0mt\u001b[0m\u001b[0;34m)\u001b[0m\u001b[0;34m\u001b[0m\u001b[0m\n",
      "\u001b[0;31mNameError\u001b[0m: name 'timeit' is not defined"
     ]
    }
   ],
   "source": [
    "s = '''\n",
    "def doIt(num):\n",
    "    num =3\n",
    "    for i in range(num):\n",
    "        print(\"Repeat for {0}\".format(i))\n",
    "'''\n",
    "\n",
    "# setup负责把环境变量准备好\n",
    "t = timeit.timeit(\"doIt(num)\",setup=s+\"num=3\",number=10)\n",
    "print(t)"
   ]
  },
  {
   "cell_type": "markdown",
   "metadata": {},
   "source": [
    "# datatime.datetime"
   ]
  },
  {
   "cell_type": "code",
   "execution_count": 4,
   "metadata": {},
   "outputs": [
    {
     "name": "stdout",
     "output_type": "stream",
     "text": [
      "2018-12-16 19:56:34.791729\n"
     ]
    }
   ],
   "source": [
    "from datetime import datetime as dt\n",
    "\n",
    "print(dt.now())"
   ]
  },
  {
   "cell_type": "markdown",
   "metadata": {},
   "source": [
    "# os 操作系统相关\n",
    "- 跟操作系统相关，主要是文件操作\n",
    "- 与操作系统相关的操作，主要包括在三个模块里\n",
    "    - os,操作系统目录相关\n",
    "    - os.path 系统路径相关操作\n",
    "    - shutil，高级文件操作，目录树的操作，文件赋值，删除，移动\n",
    "- 路径\n",
    "    - 绝对路径：总是从根目录开始\n",
    "    - 相对路径：基本以当前环境为开始的一个相对的地方"
   ]
  },
  {
   "cell_type": "markdown",
   "metadata": {},
   "source": [
    "# os模块"
   ]
  },
  {
   "cell_type": "code",
   "execution_count": 9,
   "metadata": {},
   "outputs": [
    {
     "name": "stdout",
     "output_type": "stream",
     "text": [
      "/home/ubuntu/Python\n"
     ]
    }
   ],
   "source": [
    "# getcwd 获取当前的工作目录\n",
    "# 格式：os.getcwd()\n",
    "# 返回值：当前工作目录的字符串\n",
    "# 当前工作目录就是程序在进行文件相关操作，默认查找文件的目录\n",
    "\n",
    "import os\n",
    "\n",
    "mydir = os.getcwd()\n",
    "print(mydir)"
   ]
  },
  {
   "cell_type": "code",
   "execution_count": 12,
   "metadata": {},
   "outputs": [
    {
     "name": "stdout",
     "output_type": "stream",
     "text": [
      "/home/ubuntu\n"
     ]
    }
   ],
   "source": [
    "# chdir改变当前的工作目录\n",
    "# os.chdir(路径)\n",
    "# 返回值 无\n",
    "\n",
    "os.chdir('/home/ubuntu')\n",
    "mydir = os.getcwd()\n",
    "print(mydir)"
   ]
  },
  {
   "cell_type": "code",
   "execution_count": 14,
   "metadata": {},
   "outputs": [
    {
     "name": "stdout",
     "output_type": "stream",
     "text": [
      "['Public', '.sudo_as_admin_successful', '.local', '.gvfs', '.bash_history', '.xinputrc', '.pki', '.config', 'snap', 'Templates', '.gnupg', '.ssh', '.presage', '.java', '.cache', 'Pictures', 'Documents', 'Music', '.profile', '.mozilla', '.PyCharmCE2018.3', '.ipython', 'examples.desktop', 'Python', 'Videos', '.ICEauthority', '.sogouinput', 'Desktop', '.jupyter', '.viminfo', '.dbus', '.python_history', '.bashrc', '.pam_environment', '.ipynb_checkpoints', 'Downloads']\n"
     ]
    }
   ],
   "source": [
    "# listdir 获取一个目录中所有子目录和文件的名称列表\n",
    "# os.listdir(路径)\n",
    "# 返回值 所有子目录和文件名称的列表\n",
    "\n",
    "ld = os.listdir()\n",
    "print(ld)"
   ]
  },
  {
   "cell_type": "code",
   "execution_count": 16,
   "metadata": {},
   "outputs": [
    {
     "name": "stdout",
     "output_type": "stream",
     "text": [
      "Help on function makedirs in module os:\n",
      "\n",
      "makedirs(name, mode=511, exist_ok=False)\n",
      "    makedirs(name [, mode=0o777][, exist_ok=False])\n",
      "    \n",
      "    Super-mkdir; create a leaf directory and all intermediate ones.  Works like\n",
      "    mkdir, except that any intermediate path segment (not just the rightmost)\n",
      "    will be created if it does not exist. If the target directory already\n",
      "    exists, raise an OSError if exist_ok is False. Otherwise no exception is\n",
      "    raised.  This is recursive.\n",
      "\n"
     ]
    }
   ],
   "source": [
    "# makedirs() 递归创建文件夹\n",
    "# os.makesdirs(递归路径)\n",
    "# 返回值 无\n",
    "# 递归路径：对个文件夹层层包含的路径就是递归路径\n",
    "help(os.makedirs)"
   ]
  },
  {
   "cell_type": "code",
   "execution_count": 21,
   "metadata": {},
   "outputs": [
    {
     "name": "stdout",
     "output_type": "stream",
     "text": [
      "/home/ubuntu/Python\n"
     ]
    },
    {
     "ename": "FileExistsError",
     "evalue": "[Errno 17] File exists: 'test'",
     "output_type": "error",
     "traceback": [
      "\u001b[0;31m---------------------------------------------------------------------------\u001b[0m",
      "\u001b[0;31mFileExistsError\u001b[0m                           Traceback (most recent call last)",
      "\u001b[0;32m<ipython-input-21-196320b3b309>\u001b[0m in \u001b[0;36m<module>\u001b[0;34m()\u001b[0m\n\u001b[1;32m      1\u001b[0m \u001b[0;34m\u001b[0m\u001b[0m\n\u001b[1;32m      2\u001b[0m \u001b[0mprint\u001b[0m\u001b[0;34m(\u001b[0m\u001b[0mos\u001b[0m\u001b[0;34m.\u001b[0m\u001b[0mgetcwd\u001b[0m\u001b[0;34m(\u001b[0m\u001b[0;34m)\u001b[0m\u001b[0;34m)\u001b[0m\u001b[0;34m\u001b[0m\u001b[0m\n\u001b[0;32m----> 3\u001b[0;31m \u001b[0mrst\u001b[0m \u001b[0;34m=\u001b[0m \u001b[0mos\u001b[0m\u001b[0;34m.\u001b[0m\u001b[0mmakedirs\u001b[0m\u001b[0;34m(\u001b[0m\u001b[0;34m\"test\"\u001b[0m\u001b[0;34m)\u001b[0m\u001b[0;34m\u001b[0m\u001b[0m\n\u001b[0m\u001b[1;32m      4\u001b[0m \u001b[0mprint\u001b[0m\u001b[0;34m(\u001b[0m\u001b[0mos\u001b[0m\u001b[0;34m.\u001b[0m\u001b[0mlistdir\u001b[0m\u001b[0;34m(\u001b[0m\u001b[0;34m)\u001b[0m\u001b[0;34m)\u001b[0m\u001b[0;34m\u001b[0m\u001b[0m\n",
      "\u001b[0;32m/opt/anaconda3/lib/python3.7/os.py\u001b[0m in \u001b[0;36mmakedirs\u001b[0;34m(name, mode, exist_ok)\u001b[0m\n\u001b[1;32m    219\u001b[0m             \u001b[0;32mreturn\u001b[0m\u001b[0;34m\u001b[0m\u001b[0m\n\u001b[1;32m    220\u001b[0m     \u001b[0;32mtry\u001b[0m\u001b[0;34m:\u001b[0m\u001b[0;34m\u001b[0m\u001b[0m\n\u001b[0;32m--> 221\u001b[0;31m         \u001b[0mmkdir\u001b[0m\u001b[0;34m(\u001b[0m\u001b[0mname\u001b[0m\u001b[0;34m,\u001b[0m \u001b[0mmode\u001b[0m\u001b[0;34m)\u001b[0m\u001b[0;34m\u001b[0m\u001b[0m\n\u001b[0m\u001b[1;32m    222\u001b[0m     \u001b[0;32mexcept\u001b[0m \u001b[0mOSError\u001b[0m\u001b[0;34m:\u001b[0m\u001b[0;34m\u001b[0m\u001b[0m\n\u001b[1;32m    223\u001b[0m         \u001b[0;31m# Cannot rely on checking for EEXIST, since the operating system\u001b[0m\u001b[0;34m\u001b[0m\u001b[0;34m\u001b[0m\u001b[0m\n",
      "\u001b[0;31mFileExistsError\u001b[0m: [Errno 17] File exists: 'test'"
     ]
    }
   ],
   "source": [
    "\n",
    "print(os.getcwd())\n",
    "rst = os.makedirs(\"test\")\n",
    "print(os.listdir())"
   ]
  },
  {
   "cell_type": "code",
   "execution_count": 23,
   "metadata": {},
   "outputs": [
    {
     "name": "stdout",
     "output_type": "stream",
     "text": [
      "0\n"
     ]
    }
   ],
   "source": [
    "# system() 运行系统shell命令\n",
    "# os.system(系统命令)\n",
    "# 返回值 打开一个shell或者终端命令\n",
    "\n",
    "rst = os.system(\"ls\")\n",
    "print(rst)"
   ]
  },
  {
   "cell_type": "code",
   "execution_count": 24,
   "metadata": {},
   "outputs": [
    {
     "name": "stdout",
     "output_type": "stream",
     "text": [
      "/opt/anaconda3/bin:/opt/anaconda3/bin:/usr/local/sbin:/usr/local/bin:/usr/sbin:/usr/bin:/sbin:/bin:/usr/games:/usr/local/games:/snap/bin\n"
     ]
    }
   ],
   "source": [
    "# getenv 获取指定的系统环境变量值\n",
    "# os.getenv()\n",
    "# 返回值：指定环境变量名对应的值\n",
    "rst = os.getenv(\"PATH\")\n",
    "print(rst)"
   ]
  },
  {
   "cell_type": "code",
   "execution_count": 25,
   "metadata": {},
   "outputs": [],
   "source": [
    "# exit 退出当前程序\n",
    "# exit()\n",
    "# 返回值 无"
   ]
  },
  {
   "cell_type": "markdown",
   "metadata": {},
   "source": [
    "# 值部分\n",
    "- os.curdir 当前目录\n",
    "- os.pardir 父目录\n",
    "- os.sep 当前系统的路径分隔符\n",
    "    - windwos: \"\\\"\n",
    "    - linux: \"/\n",
    "- os.linesep 当前系统的换行符号\n",
    "    - windwos: \"\\r\\n\"\n",
    "    - unix,linux,macos: \"\\n\n",
    "- os.name 当前系统名称\n",
    "    - windows : nt\n",
    "    - mac unix ,linux : posix"
   ]
  },
  {
   "cell_type": "code",
   "execution_count": 33,
   "metadata": {},
   "outputs": [
    {
     "name": "stdout",
     "output_type": "stream",
     "text": [
      "..\n",
      ".\n"
     ]
    }
   ],
   "source": [
    "print(os.pardir)\n",
    "print(os.curdir)"
   ]
  },
  {
   "cell_type": "code",
   "execution_count": 34,
   "metadata": {},
   "outputs": [
    {
     "name": "stdout",
     "output_type": "stream",
     "text": [
      "/\n",
      "\n",
      "\n"
     ]
    }
   ],
   "source": [
    "print(os.sep)\n",
    "print(os.linesep)"
   ]
  },
  {
   "cell_type": "code",
   "execution_count": 35,
   "metadata": {},
   "outputs": [
    {
     "name": "stdout",
     "output_type": "stream",
     "text": [
      "posix\n"
     ]
    }
   ],
   "source": [
    "print(os.name)"
   ]
  },
  {
   "cell_type": "markdown",
   "metadata": {},
   "source": [
    "# os.path 跟路径相关的模块"
   ]
  },
  {
   "cell_type": "code",
   "execution_count": 38,
   "metadata": {},
   "outputs": [
    {
     "name": "stdout",
     "output_type": "stream",
     "text": [
      "/home/ubuntu/Python\n"
     ]
    }
   ],
   "source": [
    "# abspath() 将路径转化为绝对路径\n",
    "# os.path.abspath('路径')\n",
    "# 返回路径的绝对路径形式\n",
    "\n",
    "import os.path as op\n",
    "absp = op.abspath(\".\")\n",
    "print(absp)"
   ]
  },
  {
   "cell_type": "code",
   "execution_count": 40,
   "metadata": {},
   "outputs": [
    {
     "name": "stdout",
     "output_type": "stream",
     "text": [
      "ubuntu\n"
     ]
    }
   ],
   "source": [
    "# basename() 获取路径中的文件名部分\n",
    "# os.path.basename(路径)\n",
    "# 返回文件名字符串\n",
    "\n",
    "bn = op.basename(\"/home/ubuntu\")\n",
    "print(bn)"
   ]
  },
  {
   "cell_type": "code",
   "execution_count": 41,
   "metadata": {},
   "outputs": [],
   "source": [
    "# join  将多个路径合成一个路径\n",
    "# os.path.join(路径1，路径2，。。)\n",
    "# 返回组合之后的新路径字符串\n"
   ]
  },
  {
   "cell_type": "code",
   "execution_count": 42,
   "metadata": {},
   "outputs": [],
   "source": [
    "# split()  将路径切割为文件夹部分和当前文件部分\n",
    "# os.path.split(路径)\n",
    "# 返回路径和文件名组成的元组\n"
   ]
  },
  {
   "cell_type": "code",
   "execution_count": 43,
   "metadata": {},
   "outputs": [],
   "source": [
    "# isdir()  检测是否是目录\n",
    "# os.path.isdir(路径)\n",
    "# 返回布尔值"
   ]
  },
  {
   "cell_type": "code",
   "execution_count": 44,
   "metadata": {},
   "outputs": [],
   "source": [
    "# exits()  检测文件或者目录是否存在\n",
    "# os.path.exists(路径)\n",
    "# 返回布尔值"
   ]
  },
  {
   "cell_type": "markdown",
   "metadata": {},
   "source": [
    "# shutil 模块"
   ]
  },
  {
   "cell_type": "code",
   "execution_count": 45,
   "metadata": {},
   "outputs": [],
   "source": [
    "# copy() 复制文件\n",
    "# shutil.copy(来源路径，目标路径)\n",
    "# 返回目标路径\n",
    "# 拷贝的同时，可以给文件命名"
   ]
  },
  {
   "cell_type": "code",
   "execution_count": 46,
   "metadata": {},
   "outputs": [],
   "source": [
    "# copyfile() 将一个文件中的内容复制到另一个文件中\n",
    "# shutil.copyfile('源路径'，‘目标路径’)\n",
    "# 返回值无"
   ]
  },
  {
   "cell_type": "markdown",
   "metadata": {},
   "source": [
    "# 归档和压缩\n",
    "- 归档：把多个文件或者文件夹合并到一个文件当中\n",
    "- 压缩：用算法吧多个文件或者文件夹无损或者有损合并到一个文件当中"
   ]
  },
  {
   "cell_type": "code",
   "execution_count": 47,
   "metadata": {},
   "outputs": [],
   "source": [
    "# make_archive() 归档操作\n",
    "# shutil.make_archive('归档之后的目录和文件名'，'后缀'，‘需要归档的文件夹’)\n",
    "# 返回归档之后的地址"
   ]
  },
  {
   "cell_type": "code",
   "execution_count": 48,
   "metadata": {},
   "outputs": [],
   "source": [
    "# unpack_archive() 解包操作\n",
    "# shutil.unpack_archive('归档文件地址‘，’解包之后的地址‘)\n",
    "# 返回解包之后的地址"
   ]
  },
  {
   "cell_type": "markdown",
   "metadata": {},
   "source": [
    "# zip 压缩包\n",
    "- 模块名称 zipfile"
   ]
  },
  {
   "cell_type": "code",
   "execution_count": 104,
   "metadata": {},
   "outputs": [
    {
     "name": "stdout",
     "output_type": "stream",
     "text": [
      "Help on class ZipFile in module zipfile:\n",
      "\n",
      "class ZipFile(builtins.object)\n",
      " |  ZipFile(file, mode='r', compression=0, allowZip64=True, compresslevel=None)\n",
      " |  \n",
      " |  Class with methods to open, read, write, close, list zip files.\n",
      " |  \n",
      " |  z = ZipFile(file, mode=\"r\", compression=ZIP_STORED, allowZip64=True,\n",
      " |              compresslevel=None)\n",
      " |  \n",
      " |  file: Either the path to the file, or a file-like object.\n",
      " |        If it is a path, the file will be opened and closed by ZipFile.\n",
      " |  mode: The mode can be either read 'r', write 'w', exclusive create 'x',\n",
      " |        or append 'a'.\n",
      " |  compression: ZIP_STORED (no compression), ZIP_DEFLATED (requires zlib),\n",
      " |               ZIP_BZIP2 (requires bz2) or ZIP_LZMA (requires lzma).\n",
      " |  allowZip64: if True ZipFile will create files with ZIP64 extensions when\n",
      " |              needed, otherwise it will raise an exception when this would\n",
      " |              be necessary.\n",
      " |  compresslevel: None (default for the given compression type) or an integer\n",
      " |                 specifying the level to pass to the compressor.\n",
      " |                 When using ZIP_STORED or ZIP_LZMA this keyword has no effect.\n",
      " |                 When using ZIP_DEFLATED integers 0 through 9 are accepted.\n",
      " |                 When using ZIP_BZIP2 integers 1 through 9 are accepted.\n",
      " |  \n",
      " |  Methods defined here:\n",
      " |  \n",
      " |  __del__(self)\n",
      " |      Call the \"close()\" method in case the user forgot.\n",
      " |  \n",
      " |  __enter__(self)\n",
      " |  \n",
      " |  __exit__(self, type, value, traceback)\n",
      " |  \n",
      " |  __init__(self, file, mode='r', compression=0, allowZip64=True, compresslevel=None)\n",
      " |      Open the ZIP file with mode read 'r', write 'w', exclusive create 'x',\n",
      " |      or append 'a'.\n",
      " |  \n",
      " |  __repr__(self)\n",
      " |      Return repr(self).\n",
      " |  \n",
      " |  close(self)\n",
      " |      Close the file, and for mode 'w', 'x' and 'a' write the ending\n",
      " |      records.\n",
      " |  \n",
      " |  extract(self, member, path=None, pwd=None)\n",
      " |      Extract a member from the archive to the current working directory,\n",
      " |      using its full name. Its file information is extracted as accurately\n",
      " |      as possible. `member' may be a filename or a ZipInfo object. You can\n",
      " |      specify a different directory using `path'.\n",
      " |  \n",
      " |  extractall(self, path=None, members=None, pwd=None)\n",
      " |      Extract all members from the archive to the current working\n",
      " |      directory. `path' specifies a different directory to extract to.\n",
      " |      `members' is optional and must be a subset of the list returned\n",
      " |      by namelist().\n",
      " |  \n",
      " |  getinfo(self, name)\n",
      " |      Return the instance of ZipInfo given 'name'.\n",
      " |  \n",
      " |  infolist(self)\n",
      " |      Return a list of class ZipInfo instances for files in the\n",
      " |      archive.\n",
      " |  \n",
      " |  namelist(self)\n",
      " |      Return a list of file names in the archive.\n",
      " |  \n",
      " |  open(self, name, mode='r', pwd=None, *, force_zip64=False)\n",
      " |      Return file-like object for 'name'.\n",
      " |      \n",
      " |      name is a string for the file name within the ZIP file, or a ZipInfo\n",
      " |      object.\n",
      " |      \n",
      " |      mode should be 'r' to read a file already in the ZIP file, or 'w' to\n",
      " |      write to a file newly added to the archive.\n",
      " |      \n",
      " |      pwd is the password to decrypt files (only used for reading).\n",
      " |      \n",
      " |      When writing, if the file size is not known in advance but may exceed\n",
      " |      2 GiB, pass force_zip64 to use the ZIP64 format, which can handle large\n",
      " |      files.  If the size is known in advance, it is best to pass a ZipInfo\n",
      " |      instance for name, with zinfo.file_size set.\n",
      " |  \n",
      " |  printdir(self, file=None)\n",
      " |      Print a table of contents for the zip file.\n",
      " |  \n",
      " |  read(self, name, pwd=None)\n",
      " |      Return file bytes (as a string) for name.\n",
      " |  \n",
      " |  setpassword(self, pwd)\n",
      " |      Set default password for encrypted files.\n",
      " |  \n",
      " |  testzip(self)\n",
      " |      Read all the files and check the CRC.\n",
      " |  \n",
      " |  write(self, filename, arcname=None, compress_type=None, compresslevel=None)\n",
      " |      Put the bytes from filename into the archive under the name\n",
      " |      arcname.\n",
      " |  \n",
      " |  writestr(self, zinfo_or_arcname, data, compress_type=None, compresslevel=None)\n",
      " |      Write a file into the archive.  The contents is 'data', which\n",
      " |      may be either a 'str' or a 'bytes' instance; if it is a 'str',\n",
      " |      it is encoded as UTF-8 first.\n",
      " |      'zinfo_or_arcname' is either a ZipInfo instance or\n",
      " |      the name of the file in the archive.\n",
      " |  \n",
      " |  ----------------------------------------------------------------------\n",
      " |  Data descriptors defined here:\n",
      " |  \n",
      " |  __dict__\n",
      " |      dictionary for instance variables (if defined)\n",
      " |  \n",
      " |  __weakref__\n",
      " |      list of weak references to the object (if defined)\n",
      " |  \n",
      " |  comment\n",
      " |      The comment text associated with the ZIP file.\n",
      " |  \n",
      " |  ----------------------------------------------------------------------\n",
      " |  Data and other attributes defined here:\n",
      " |  \n",
      " |  fp = None\n",
      "\n"
     ]
    }
   ],
   "source": [
    "import zipfile\n",
    "# zipfile.ZipFile(file[,mode[, compression[, allowZip64]]])\n",
    "# 创建一个ZipFile对象，表示一个zip文件。参数file表示文件的路径或类文件对象\n",
    "help(zipfile.ZipFile)"
   ]
  },
  {
   "cell_type": "code",
   "execution_count": 100,
   "metadata": {},
   "outputs": [],
   "source": [
    "# ZipFile.getinfo(name)\n",
    "# 获取zip文档内指定文件的信息。返回zipfile.ZipInfo对象，包括文件的详细信息"
   ]
  },
  {
   "cell_type": "code",
   "execution_count": 101,
   "metadata": {},
   "outputs": [],
   "source": [
    "# ZipFile.namelist()\n",
    "#获取zip文档内所有文件的名称列表"
   ]
  },
  {
   "cell_type": "code",
   "execution_count": 105,
   "metadata": {},
   "outputs": [
    {
     "name": "stdout",
     "output_type": "stream",
     "text": [
      "Help on function extractall in module zipfile:\n",
      "\n",
      "extractall(self, path=None, members=None, pwd=None)\n",
      "    Extract all members from the archive to the current working\n",
      "    directory. `path' specifies a different directory to extract to.\n",
      "    `members' is optional and must be a subset of the list returned\n",
      "    by namelist().\n",
      "\n"
     ]
    }
   ],
   "source": [
    "# ZipFile.extractall([path[,members[,pwd]]])\n",
    "# 解压zip文档中的所有文件到当前目录。参数members的默认值为zip文档中的所有文件名称列表\n",
    "\n",
    "help(zipfile.ZipFile.extractall)"
   ]
  },
  {
   "cell_type": "markdown",
   "metadata": {},
   "source": [
    "# random\n",
    "- 随机数\n",
    "- 所有的随机模块都是伪随机"
   ]
  },
  {
   "cell_type": "code",
   "execution_count": 80,
   "metadata": {},
   "outputs": [
    {
     "name": "stdout",
     "output_type": "stream",
     "text": [
      "0.00695758327026097\n"
     ]
    }
   ],
   "source": [
    "# random  获取0-1之间的随机小数\n",
    "# random.random()\n",
    "# 返回随机0-1之间的小数\n",
    "\n",
    "import random\n",
    "print(random.random())"
   ]
  },
  {
   "cell_type": "code",
   "execution_count": 82,
   "metadata": {},
   "outputs": [
    {
     "name": "stdout",
     "output_type": "stream",
     "text": [
      "['0hh', '1hh', '2hh', '3hh', '4hh', '5hh', '6hh', '7hh', '8hh', '9hh']\n",
      "3hh\n"
     ]
    }
   ],
   "source": [
    "# choice  随机返回序列中的某个值\n",
    "# random.choice(序列)\n",
    "# 返回序列中的某个值\n",
    "\n",
    "l = [str(i)+\"hh\" for i in range(10)]\n",
    "print(l)\n",
    "rst = random.choice(l)\n",
    "print(rst)"
   ]
  },
  {
   "cell_type": "code",
   "execution_count": 94,
   "metadata": {},
   "outputs": [
    {
     "name": "stdout",
     "output_type": "stream",
     "text": [
      "[0, 1, 2, 3, 4, 5, 6, 7, 8, 9]\n",
      "[8, 3, 5, 6, 4, 2, 1, 0, 9, 7]\n"
     ]
    }
   ],
   "source": [
    "# shuffle()  随机打乱列表\n",
    "# random.shuffle(列表)\n",
    "# 返回打乱顺序之后的列表\n",
    "\n",
    "l1 = [i for i in range(10)]\n",
    "print(l1)\n",
    "l2 = random.shuffle(l1)\n",
    "print(l1)\n",
    "\n"
   ]
  },
  {
   "cell_type": "code",
   "execution_count": 95,
   "metadata": {},
   "outputs": [
    {
     "name": "stdout",
     "output_type": "stream",
     "text": [
      "11\n",
      "Help on method randint in module random:\n",
      "\n",
      "randint(a, b) method of random.Random instance\n",
      "    Return random integer in range [a, b], including both end points.\n",
      "\n"
     ]
    }
   ],
   "source": [
    "# random(a,b) 返回一个a到b之间的值，包含a和b\n",
    "\n",
    "print(random.randint(0,100))\n",
    "help(random.randint)"
   ]
  }
 ],
 "metadata": {
  "kernelspec": {
   "display_name": "Python 3",
   "language": "python",
   "name": "python3"
  },
  "language_info": {
   "codemirror_mode": {
    "name": "ipython",
    "version": 3
   },
   "file_extension": ".py",
   "mimetype": "text/x-python",
   "name": "python",
   "nbconvert_exporter": "python",
   "pygments_lexer": "ipython3",
   "version": "3.7.0"
  }
 },
 "nbformat": 4,
 "nbformat_minor": 2
}
