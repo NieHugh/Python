{
 "cells": [
  {
   "cell_type": "code",
   "execution_count": 5,
   "metadata": {},
   "outputs": [
    {
     "name": "stdout",
     "output_type": "stream",
     "text": [
      "lll\n"
     ]
    },
    {
     "ename": "AttributeError",
     "evalue": "'A' object has no attribute 'name'",
     "output_type": "error",
     "traceback": [
      "\u001b[0;31m---------------------------------------------------------------------------\u001b[0m",
      "\u001b[0;31mAttributeError\u001b[0m                            Traceback (most recent call last)",
      "\u001b[0;32m<ipython-input-5-2176d47d059b>\u001b[0m in \u001b[0;36m<module>\u001b[0;34m()\u001b[0m\n\u001b[1;32m     10\u001b[0m \u001b[0;34m\u001b[0m\u001b[0m\n\u001b[1;32m     11\u001b[0m \u001b[0;32mdel\u001b[0m \u001b[0ma\u001b[0m\u001b[0;34m.\u001b[0m\u001b[0mname\u001b[0m\u001b[0;34m\u001b[0m\u001b[0m\n\u001b[0;32m---> 12\u001b[0;31m \u001b[0mprint\u001b[0m\u001b[0;34m(\u001b[0m\u001b[0ma\u001b[0m\u001b[0;34m.\u001b[0m\u001b[0mname\u001b[0m\u001b[0;34m)\u001b[0m\u001b[0;34m\u001b[0m\u001b[0m\n\u001b[0m",
      "\u001b[0;31mAttributeError\u001b[0m: 'A' object has no attribute 'name'"
     ]
    }
   ],
   "source": [
    "class A():\n",
    "    def __init__(self):\n",
    "        self.name = \"hhh\"\n",
    "        self.age = 18\n",
    "        \n",
    "a = A()\n",
    "\n",
    "a.name = \"lll\"\n",
    "print(a.name)\n",
    "\n",
    "del a.name\n",
    "print(a.name)\n",
    "\n"
   ]
  },
  {
   "cell_type": "code",
   "execution_count": 9,
   "metadata": {},
   "outputs": [
    {
     "name": "stdout",
     "output_type": "stream",
     "text": [
      "hhh\n",
      "被读取了\n",
      "hhh\n"
     ]
    }
   ],
   "source": [
    "class A():\n",
    "    def __init__(self):\n",
    "        self.name = \"hhh\"\n",
    "        self.age = 18\n",
    "        \n",
    "    def fget(self):\n",
    "        print(\"被读取了\")\n",
    "        return self.name\n",
    "    \n",
    "    def fset(self):\n",
    "        print(\"被写入了\")\n",
    "        self.name = \"TLXY:\" + name\n",
    "    \n",
    "    def fdel(self):\n",
    "        pritn(name+\"被删除了\")\n",
    "        \n",
    "        \n",
    "    name2 = property(fget,fset,fdel,\"是说明文档\")\n",
    "    \n",
    "a = A()\n",
    "print(a.name)\n",
    "\n",
    "print(a.name2)"
   ]
  },
  {
   "cell_type": "code",
   "execution_count": 12,
   "metadata": {},
   "outputs": [
    {
     "name": "stdout",
     "output_type": "stream",
     "text": [
      "汪汪汪\n",
      "哦哦哦\n"
     ]
    }
   ],
   "source": [
    "class A():\n",
    "    def sayHello(self):\n",
    "        pass\n",
    "\n",
    "class Dog(A):\n",
    "    def sayHello(self):\n",
    "        print(\"汪汪汪\")\n",
    "        \n",
    "class Person(A):\n",
    "    def sayHello(self):\n",
    "        print(\"哦哦哦\")\n",
    "        \n",
    "        \n",
    "d = Dog()\n",
    "d.sayHello()\n",
    "\n",
    "p = Person()\n",
    "p.sayHello()"
   ]
  },
  {
   "cell_type": "code",
   "execution_count": 18,
   "metadata": {},
   "outputs": [],
   "source": [
    "import abc\n",
    "# 声明一个类，并并指定当前类的元类为抽象类提供的元类\n",
    "class Human(metaclass=abc.ABCMeta):\n",
    "    #定义一个抽象方法\n",
    "    @abc.abstractmethod\n",
    "    def smoking(self):\n",
    "        pass\n",
    "    \n",
    "    # 定义类抽象方法\n",
    "    @abc.abstractclassmethod\n",
    "    def drink():\n",
    "        pass   \n",
    "    \n",
    "    #定义静态抽象方法\n",
    "    @abc.abstractstaticmethod\n",
    "    def paly():\n",
    "        pass\n",
    "    "
   ]
  },
  {
   "cell_type": "code",
   "execution_count": 22,
   "metadata": {},
   "outputs": [
    {
     "name": "stdout",
     "output_type": "stream",
     "text": [
      "Saying......\n",
      "Saying......\n",
      "Saying......\n"
     ]
    }
   ],
   "source": [
    "# 自己组装一个类\n",
    "class A():\n",
    "    pass\n",
    "def say(self):\n",
    "    print(\"Saying......\")\n",
    "    \n",
    "class B():\n",
    "    def say(self):\n",
    "        print(\"Saying......\")\n",
    "    \n",
    "say(9)\n",
    "A.say = say\n",
    "     \n",
    "a =A()\n",
    "a.say()\n",
    "\n",
    "b = B()\n",
    "b.say()"
   ]
  },
  {
   "cell_type": "code",
   "execution_count": 23,
   "metadata": {},
   "outputs": [
    {
     "name": "stdout",
     "output_type": "stream",
     "text": [
      "ooo Fuck YOU\n",
      "ooo Fuck YOU\n"
     ]
    }
   ],
   "source": [
    "# 函数名可以当变量使用\n",
    "def sayHello(name):\n",
    "    print(\"{0} Fuck YOU\".format(name))\n",
    "    \n",
    "sayHello(\"ooo\")\n",
    "\n",
    "liumang = sayHello\n",
    "\n",
    "liumang(\"ooo\")"
   ]
  },
  {
   "cell_type": "code",
   "execution_count": 26,
   "metadata": {},
   "outputs": [
    {
     "name": "stdout",
     "output_type": "stream",
     "text": [
      "Saying......\n"
     ]
    }
   ],
   "source": [
    "# 自己组装一个类\n",
    "from types import MethodType\n",
    "class A():\n",
    "    pass\n",
    "\n",
    "def say(self):\n",
    "    print(\"Saying......\")\n",
    "    \n",
    "a = A()\n",
    "a.say = MethodType(say,A)\n",
    "a.say()"
   ]
  },
  {
   "cell_type": "code",
   "execution_count": 30,
   "metadata": {},
   "outputs": [
    {
     "name": "stdout",
     "output_type": "stream",
     "text": [
      "Talking.....\n"
     ]
    }
   ],
   "source": [
    "# 利用type造一个类\n",
    "\n",
    "# 先定义类应具有的成员函数\n",
    "\n",
    "def say(self):\n",
    "    print(\"SAying......\")\n",
    "    \n",
    "def talk(self):\n",
    "    print(\"Talking.....\")\n",
    "    \n",
    "# 利用type来创建一个类\n",
    "A = type(\"AName\",(object, ),{\"class_say\":say, \"class_talk\":talk})\n",
    "\n",
    "a = A()\n",
    "dir(a)\n",
    "\n",
    "a.class_talk()"
   ]
  },
  {
   "cell_type": "code",
   "execution_count": 35,
   "metadata": {},
   "outputs": [
    {
     "name": "stdout",
     "output_type": "stream",
     "text": [
      "元类呀\n"
     ]
    },
    {
     "data": {
      "text/plain": [
       "'中南海'"
      ]
     },
     "execution_count": 35,
     "metadata": {},
     "output_type": "execute_result"
    }
   ],
   "source": [
    "# 元类写法是固定的，必须继承自type\n",
    "\n",
    "# 元类命名一般以MetaClass结尾\n",
    "class TLMetaClass(type):\n",
    "    # 注意写法\n",
    "    def __new__(cls,name,bases,attrs):\n",
    "        print(\"元类呀\")\n",
    "        attrs['id'] = \"00000\"\n",
    "        attrs['addr'] = \"中南海\"\n",
    "        return type.__new__(cls,name,bases,attrs)\n",
    "    \n",
    "# 元类定义完就可以使用\n",
    "class Teacher(object,metaclass=TLMetaClass):\n",
    "    pass\n",
    "\n",
    "t = Teacher()\n",
    "t.id\n",
    "t.addr"
   ]
  }
 ],
 "metadata": {
  "kernelspec": {
   "display_name": "Python 3",
   "language": "python",
   "name": "python3"
  },
  "language_info": {
   "codemirror_mode": {
    "name": "ipython",
    "version": 3
   },
   "file_extension": ".py",
   "mimetype": "text/x-python",
   "name": "python",
   "nbconvert_exporter": "python",
   "pygments_lexer": "ipython3",
   "version": "3.7.0"
  }
 },
 "nbformat": 4,
 "nbformat_minor": 2
}
