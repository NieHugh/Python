{
 "cells": [
  {
   "cell_type": "code",
   "execution_count": 11,
   "metadata": {},
   "outputs": [
    {
     "name": "stdout",
     "output_type": "stream",
     "text": [
      "Name is ADASDS\n",
      "Name is GHKL\n"
     ]
    }
   ],
   "source": [
    "# 属性案例\n",
    "class Student():\n",
    "    def __init__(self,name,age):\n",
    "        self.name = name\n",
    "        self.age = age\n",
    "        \n",
    "    def intro(self):\n",
    "        print(\"Name is {0}\".format(self.name))\n",
    "        \n",
    "    def setName(self,name):\n",
    "        self.name = name.upper()\n",
    "        \n",
    "s1 = Student(\"KKiii\",55)\n",
    "s2 = Student(\"IIsss\",44)\n",
    "\n",
    "s1.setName(\"adasds\")\n",
    "s1.intro()\n",
    "\n",
    "s2.setName(\"GHkl\")\n",
    "s2.intro()\n"
   ]
  },
  {
   "cell_type": "code",
   "execution_count": 6,
   "metadata": {
    "scrolled": true
   },
   "outputs": [
    {
     "name": "stdout",
     "output_type": "stream",
     "text": [
      "YYIYYI\n"
     ]
    }
   ],
   "source": [
    "# peroperty\n",
    "\n",
    "class Person():\n",
    "    def fget(self):\n",
    "        return self._name *2\n",
    "    \n",
    "    def fset(self,name):\n",
    "        self._name = name.upper()\n",
    "    def fdel(self):\n",
    "        self._name = \"Noname\"\n",
    "        \n",
    "    name = property(fget,fset,fdel,\"内部文档\")\n",
    "        \n",
    "p1 = Person()\n",
    "p1.name = \"YYi\"\n",
    "print(p1.name)"
   ]
  },
  {
   "cell_type": "code",
   "execution_count": 17,
   "metadata": {},
   "outputs": [
    {
     "name": "stdout",
     "output_type": "stream",
     "text": [
      "0\n"
     ]
    }
   ],
   "source": [
    "class Person():\n",
    "    def fget(self):\n",
    "        return self._age\n",
    "    def fset(self,age):\n",
    "        self._age = int(age)\n",
    "    def fdel(self):\n",
    "        self._age = \"NULL\"\n",
    "        \n",
    "    age = property(fget,fset,fdel,\"wwww\")\n",
    "    \n",
    "p1 = Person()\n",
    "p1.age = 0.25\n",
    "print(p1.age)"
   ]
  },
  {
   "cell_type": "code",
   "execution_count": 20,
   "metadata": {},
   "outputs": [
    {
     "name": "stdout",
     "output_type": "stream",
     "text": [
      "{'__module__': '__main__', 'fget': <function Person.fget at 0x7f14dc020f28>, 'fset': <function Person.fset at 0x7f14dc020bf8>, 'fdel': <function Person.fdel at 0x7f14c77c1048>, 'age': <property object at 0x7f14dc056228>, '__dict__': <attribute '__dict__' of 'Person' objects>, '__weakref__': <attribute '__weakref__' of 'Person' objects>, '__doc__': None}\n",
      "None\n",
      "Person\n",
      "(<class 'object'>,)\n"
     ]
    }
   ],
   "source": [
    "# 类的内置属性例子\n",
    "print(Person.__dict__)\n",
    "print(Person.__doc__)\n",
    "print(Person.__name__)\n",
    "print(Person.__bases__)"
   ]
  },
  {
   "cell_type": "code",
   "execution_count": 22,
   "metadata": {},
   "outputs": [
    {
     "name": "stdout",
     "output_type": "stream",
     "text": [
      "..........\n"
     ]
    }
   ],
   "source": [
    "# __init__ 构造函数\n",
    "class A():\n",
    "    def __init__(self,name = 0):\n",
    "        print(\"..........\")\n",
    "\n",
    "a = A()"
   ]
  },
  {
   "cell_type": "raw",
   "metadata": {},
   "source": [
    "#  __new__ 对象实例化方法\n",
    "# __call__ 对象当函数使用出发\n",
    "class A():\n",
    "    def __init__(self,name = 0):\n",
    "        print(\"..........\")\n",
    "        \n",
    "    def __call__(self):\n",
    "        print(\",,,,,,,\")\n",
    "\n",
    "a = A()\n",
    "a()"
   ]
  },
  {
   "cell_type": "code",
   "execution_count": 27,
   "metadata": {},
   "outputs": [
    {
     "name": "stdout",
     "output_type": "stream",
     "text": [
      "..........\n",
      "```````\n"
     ]
    }
   ],
   "source": [
    "# __str__ 对象被当做字符串使用的时候\n",
    "class A():\n",
    "    def __init__(self,name = 0):\n",
    "        print(\"..........\")\n",
    "        \n",
    "    def __call__(self):\n",
    "        print(\",,,,,,,\")\n",
    "        \n",
    "    def __str__(self):\n",
    "        return \"```````\"\n",
    "\n",
    "a = A()\n",
    "print(a)"
   ]
  },
  {
   "cell_type": "code",
   "execution_count": 31,
   "metadata": {},
   "outputs": [
    {
     "name": "stdout",
     "output_type": "stream",
     "text": [
      "..........\n",
      "!!!!!!!!!!!!!!\n"
     ]
    }
   ],
   "source": [
    "# __repr__ 返回字符串\n",
    "class A():\n",
    "    def __init__(self,name = 0):\n",
    "        print(\"..........\")\n",
    "        \n",
    "    def __call__(self):\n",
    "        print(\",,,,,,,\")\n",
    "        \n",
    "    def __repr__(self):\n",
    "        return \"!!!!!!!!!!!!!!\"\n",
    "        \n",
    "a = A()\n",
    "print(a)"
   ]
  },
  {
   "cell_type": "code",
   "execution_count": 35,
   "metadata": {},
   "outputs": [
    {
     "name": "stdout",
     "output_type": "stream",
     "text": [
      "ojij\n",
      "aaaaa\n",
      "addr\n",
      "None\n"
     ]
    }
   ],
   "source": [
    "# __getattr__ 访问不存在属性触发\n",
    "class A():\n",
    "    name = \"ojij\"\n",
    "    age = 18\n",
    "    def __getattr__(self,name):\n",
    "        print(\"aaaaa\")\n",
    "        print(name)\n",
    "        \n",
    "a = A()\n",
    "print(a.name)\n",
    "print(a.addr)"
   ]
  },
  {
   "cell_type": "code",
   "execution_count": 39,
   "metadata": {},
   "outputs": [
    {
     "name": "stdout",
     "output_type": "stream",
     "text": [
      "{}\n",
      "设置属性:age\n"
     ]
    }
   ],
   "source": [
    "# __setattr__ 对成员属性进行设置的时候触发\n",
    "class Person():\n",
    "    def __init__(self):\n",
    "        pass\n",
    "    def __setattr__(self,name,value):\n",
    "        print(\"设置属性:{0}\".format(name))\n",
    "        ## self.name = value  死循环\n",
    "        super().__setattr__(name,value)\n",
    "p = Person()\n",
    "print(p.__dict__)\n",
    "p.age = 18"
   ]
  },
  {
   "cell_type": "code",
   "execution_count": 43,
   "metadata": {},
   "outputs": [
    {
     "name": "stdout",
     "output_type": "stream",
     "text": [
      "<__main__.Student object at 0x7f14c74965f8>><__main__.Student object at 0x7f14c74965c0>?\n",
      "False\n"
     ]
    }
   ],
   "source": [
    "# __gt__\n",
    "\n",
    "class Student():\n",
    "    def __init__(self,name):\n",
    "        self._name = name\n",
    "        \n",
    "    def __gt__(self,obj):\n",
    "        print(\"{0}>{1}?\".format(self,obj))\n",
    "        return self._name > obj._name\n",
    "    \n",
    "stu1 = Student(\"One\")\n",
    "stu2 = Student(\"Two\")\n",
    "\n",
    "print(stu1 > stu2)"
   ]
  },
  {
   "cell_type": "code",
   "execution_count": 45,
   "metadata": {
    "collapsed": true
   },
   "outputs": [
    {
     "name": "stdout",
     "output_type": "stream",
     "text": [
      "<__main__.Person object at 0x7f14c7496b00>\n",
      "eat...........\n",
      "<class '__main__.Person'>\n",
      "play...........\n",
      "<class '__main__.Person'>\n",
      "play...........\n",
      "say............\n",
      "say............\n"
     ]
    }
   ],
   "source": [
    "class Person():\n",
    "    # 实例方法\n",
    "    def eat(self):\n",
    "        print(self)\n",
    "        print(\"eat...........\")\n",
    "        \n",
    "        \n",
    "    # 类方法\n",
    "    # 一般第一个参数命名为cls 区别于self\n",
    "    @classmethod\n",
    "    def play(cls):\n",
    "        print(cls)\n",
    "        print(\"play...........\")\n",
    "        \n",
    "        \n",
    "    # 静态方法\n",
    "    # 不需要第一个参数表示自身或类\n",
    "    @staticmethod\n",
    "    def say():\n",
    "        print(\"say............\")\n",
    "        \n",
    "aa = Person()\n",
    "\n",
    "# 实例方法\n",
    "aa.eat()\n",
    "# 类方法\n",
    "Person.play()\n",
    "aa.play()\n",
    "# 静态方法\n",
    "Person.say()\n",
    "aa.say()"
   ]
  }
 ],
 "metadata": {
  "kernelspec": {
   "display_name": "Python 3",
   "language": "python",
   "name": "python3"
  },
  "language_info": {
   "codemirror_mode": {
    "name": "ipython",
    "version": 3
   },
   "file_extension": ".py",
   "mimetype": "text/x-python",
   "name": "python",
   "nbconvert_exporter": "python",
   "pygments_lexer": "ipython3",
   "version": "3.7.0"
  }
 },
 "nbformat": 4,
 "nbformat_minor": 2
}
