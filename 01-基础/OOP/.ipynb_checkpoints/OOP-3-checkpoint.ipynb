{
 "cells": [
  {
   "cell_type": "code",
   "execution_count": 3,
   "metadata": {},
   "outputs": [
    {
     "name": "stdout",
     "output_type": "stream",
     "text": [
      "(<class '__main__.A'>, <class 'object'>)\n",
      "(<class '__main__.B'>, <class '__main__.A'>, <class 'object'>)\n"
     ]
    }
   ],
   "source": [
    "class A():\n",
    "    pass\n",
    "\n",
    "class B(A):\n",
    "    pass\n",
    "\n",
    "class C(B,A):\n",
    "    pass\n",
    "\n",
    "print(A.__mro__)\n",
    "print(B.__mro__)"
   ]
  },
  {
   "cell_type": "code",
   "execution_count": 9,
   "metadata": {},
   "outputs": [
    {
     "name": "stdout",
     "output_type": "stream",
     "text": [
      "I can fly\n",
      "I can swim\n",
      "**************************************************\n",
      "I need work\n"
     ]
    }
   ],
   "source": [
    "# 多继承例子\n",
    "# 子类可以直接拥有父类的属性和方法，私有属性和方法除外\n",
    "class Fish():\n",
    "    def __init__(self,name):\n",
    "        self.name = name\n",
    "    def swim(self):\n",
    "        print(\"I can swim\")\n",
    "        \n",
    "class Bird():\n",
    "    def __init__(self,name):\n",
    "        self.name = name\n",
    "    def fly(self):\n",
    "        print(\"I can fly\")\n",
    "        \n",
    "class Person():\n",
    "    def __init__(self,name):\n",
    "        self.name = name\n",
    "    def work(self):\n",
    "        print(\"I need work\")\n",
    "        \n",
    "class SuperMan(Person,Bird,Fish):\n",
    "    def __init__(self,name):\n",
    "        self.name = name\n",
    "        \n",
    "# 单继承\n",
    "s = SuperMan(\"yeye\")\n",
    "s.fly()\n",
    "s.swim()\n",
    "\n",
    "print(\"*\"*50)\n",
    "class Student(Person):\n",
    "    def __init__(self,name):\n",
    "        self.name = name\n",
    "    def Study(self):\n",
    "        print(\"I need study\")\n",
    "        \n",
    "        \n",
    "s = Student(\"gaga\")\n",
    "s.work()"
   ]
  },
  {
   "cell_type": "code",
   "execution_count": 10,
   "metadata": {},
   "outputs": [],
   "source": [
    "class A():\n",
    "    pass\n",
    "class B(A):\n",
    "    pass\n",
    "class C(A):\n",
    "    pass\n",
    "class D(B,C):\n",
    "    pass"
   ]
  },
  {
   "cell_type": "code",
   "execution_count": 13,
   "metadata": {},
   "outputs": [
    {
     "name": "stdout",
     "output_type": "stream",
     "text": [
      "init\n"
     ]
    }
   ],
   "source": [
    "# 构造函数例子\n",
    "class Person():\n",
    "    # 对Person类进行实例化的时候\n",
    "    # 姓名要确定\n",
    "    # 年龄要确定\n",
    "    # 地址肯定有\n",
    "    def __init__(self):\n",
    "        self.name = \"Noname\"\n",
    "        self.age = 18\n",
    "        self.address = \"School\"\n",
    "        print(\"init\")\n",
    "\n",
    "# 实例化一个人\n",
    "p = Person()"
   ]
  },
  {
   "cell_type": "code",
   "execution_count": null,
   "metadata": {
    "collapsed": true
   },
   "outputs": [],
   "source": []
  },
  {
   "cell_type": "code",
   "execution_count": 26,
   "metadata": {},
   "outputs": [
    {
     "name": "stdout",
     "output_type": "stream",
     "text": [
      "B\n",
      "c\n",
      "C\n"
     ]
    }
   ],
   "source": [
    "# 构造函数的调用顺序\n",
    "# 如果子类没有写构造函数，则自动向上查找，直到找到\n",
    "class A():\n",
    "    def __init__(self):\n",
    "        print(\"A\")\n",
    "class B(A):\n",
    "    def __init__(self,name):\n",
    "        print(\"B\")\n",
    "        print(name)\n",
    "class C(B):\n",
    "    # C中想扩展B的构造函数\n",
    "    # 即调用C的构造函数后添加一些功能\n",
    "    # 由两种方法实现\n",
    "    # 第一种是通过父类名调用\n",
    "    '''\n",
    "    def __init__(self,name):\n",
    "       B.__init__(self,name)\n",
    "        print(\"C\")\n",
    "    '''\n",
    "    # 第二种，使用super\n",
    "    def __init__(self,name):\n",
    "        super(C,self).__init__(name)\n",
    "        print(\"C\")\n",
    "        \n",
    "        \n",
    "# 此时，首先查找C、的构造函数\n",
    "# 如果没有就向上查找\n",
    "c = C(\"c\")"
   ]
  },
  {
   "cell_type": "code",
   "execution_count": 36,
   "metadata": {
    "scrolled": true
   },
   "outputs": [
    {
     "name": "stdout",
     "output_type": "stream",
     "text": [
      "(<class '__main__.Tutor'>, <class '__main__.Teacher'>, <class '__main__.Student'>, <class '__main__.Person'>, <class 'object'>)\n",
      "{}\n",
      "{'__module__': '__main__', '__doc__': None}\n",
      "****************************************************************************************************\n",
      "(<class '__main__.TutorM'>, <class '__main__.Person'>, <class '__main__.TeacherM'>, <class '__main__.StudentM'>, <class 'object'>)\n",
      "{}\n",
      "{'__module__': '__main__', '__doc__': None}\n"
     ]
    }
   ],
   "source": [
    "# Mixin例子\n",
    "class Person():\n",
    "    name = \"kk\"\n",
    "    age = 18\n",
    "    def eat(self):\n",
    "        print(\"eat....\")\n",
    "    def drink(self):\n",
    "        print(\"drink.....\")\n",
    "    def sleep(self):\n",
    "        print(\"sleep\")\n",
    "class Teacher(Person):\n",
    "    def work(self):\n",
    "        print(\"work.....\")\n",
    "class Student(Person):\n",
    "    def study(self):\n",
    "        print(\"study.....\")\n",
    "class Tutor(Teacher,Student):\n",
    "    pass\n",
    "\n",
    "t = Tutor()\n",
    "\n",
    "print(Tutor.__mro__)\n",
    "print(t.__dict__)\n",
    "print(Tutor.__dict__)\n",
    "\n",
    "print(\"*\"*100)\n",
    "\n",
    "class TeacherM():\n",
    "    def work(self):\n",
    "        print(\"work.....\")\n",
    "class StudentM():\n",
    "    def study(self):\n",
    "        print(\"study.....\")\n",
    "class TutorM(Person,TeacherM,StudentM):\n",
    "    pass\n",
    "\n",
    "tt = TutorM()\n",
    "\n",
    "print(TutorM.__mro__)\n",
    "print(tt.__dict__)\n",
    "print(TutorM.__dict__)"
   ]
  },
  {
   "cell_type": "code",
   "execution_count": 43,
   "metadata": {},
   "outputs": [
    {
     "name": "stdout",
     "output_type": "stream",
     "text": [
      "True\n"
     ]
    }
   ],
   "source": [
    "class A():\n",
    "    pass\n",
    "class B(A):\n",
    "    pass\n",
    "class C():\n",
    "    pass\n",
    "\n",
    "print(issubclass(A,object))"
   ]
  },
  {
   "cell_type": "code",
   "execution_count": 45,
   "metadata": {},
   "outputs": [
    {
     "name": "stdout",
     "output_type": "stream",
     "text": [
      "True\n"
     ]
    }
   ],
   "source": [
    "class A():\n",
    "    pass\n",
    "a = A()\n",
    "\n",
    "print(isinstance(a,A))"
   ]
  },
  {
   "cell_type": "code",
   "execution_count": 47,
   "metadata": {},
   "outputs": [
    {
     "name": "stdout",
     "output_type": "stream",
     "text": [
      "True\n"
     ]
    }
   ],
   "source": [
    "class A():\n",
    "    name = \"Noname\"\n",
    "    \n",
    "a = A()\n",
    "\n",
    "print(hasattr(a,\"name\"))"
   ]
  },
  {
   "cell_type": "code",
   "execution_count": 54,
   "metadata": {},
   "outputs": [
    {
     "data": {
      "text/plain": [
       "'aa'"
      ]
     },
     "execution_count": 54,
     "metadata": {},
     "output_type": "execute_result"
    }
   ],
   "source": [
    "class A():\n",
    "    pass\n",
    "\n",
    "setattr(A,\"name\",\"aa\")\n",
    "a = A()\n",
    "a.name"
   ]
  },
  {
   "cell_type": "code",
   "execution_count": 51,
   "metadata": {},
   "outputs": [
    {
     "data": {
      "text/plain": [
       "['__class__',\n",
       " '__delattr__',\n",
       " '__dict__',\n",
       " '__dir__',\n",
       " '__doc__',\n",
       " '__eq__',\n",
       " '__format__',\n",
       " '__ge__',\n",
       " '__getattribute__',\n",
       " '__gt__',\n",
       " '__hash__',\n",
       " '__init__',\n",
       " '__init_subclass__',\n",
       " '__le__',\n",
       " '__lt__',\n",
       " '__module__',\n",
       " '__ne__',\n",
       " '__new__',\n",
       " '__reduce__',\n",
       " '__reduce_ex__',\n",
       " '__repr__',\n",
       " '__setattr__',\n",
       " '__sizeof__',\n",
       " '__str__',\n",
       " '__subclasshook__',\n",
       " '__weakref__']"
      ]
     },
     "execution_count": 51,
     "metadata": {},
     "output_type": "execute_result"
    }
   ],
   "source": [
    "class A():\n",
    "    pass\n",
    "dir(A)\n",
    "a = A()\n",
    "dir(a)"
   ]
  }
 ],
 "metadata": {
  "kernelspec": {
   "display_name": "Python 3",
   "language": "python",
   "name": "python3"
  },
  "language_info": {
   "codemirror_mode": {
    "name": "ipython",
    "version": 3
   },
   "file_extension": ".py",
   "mimetype": "text/x-python",
   "name": "python",
   "nbconvert_exporter": "python",
   "pygments_lexer": "ipython3",
   "version": "3.7.0"
  }
 },
 "nbformat": 4,
 "nbformat_minor": 2
}
